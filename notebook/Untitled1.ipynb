{
 "cells": [
  {
   "cell_type": "code",
   "execution_count": 6,
   "id": "51ec0545-4035-47cd-81ae-a0ab2188de11",
   "metadata": {},
   "outputs": [],
   "source": [
    "import pandas as pd\n",
    "from SmileGAN.Smile_GAN_clustering import single_model_clustering, cross_validated_clustering, clustering_result"
   ]
  },
  {
   "cell_type": "code",
   "execution_count": 13,
   "id": "cda2e774-39a2-4dd0-812a-d882c9f02f6a",
   "metadata": {},
   "outputs": [],
   "source": [
    "train_data = pd.read_csv('../datasets/sample_data.csv')\n",
    "\n",
    "\n",
    "output_dir = \"PATH_OUTPUT_DIR\"\n",
    "ncluster = 3\n",
    "start_saving_epoch = 1000\n",
    "max_epoch = 15000\n",
    "\n",
    "## three parameters for stopping threshold\n",
    "WD = 0.10\n",
    "AQ = 20\n",
    "cluster_loss = 0.0015\n",
    "\n",
    "## one parameter for consensus method\n",
    "consensus_type = \"highest_matching_clustering\""
   ]
  },
  {
   "cell_type": "code",
   "execution_count": 14,
   "id": "ffdb08c1-0268-48c5-bcfa-b1871d0aebd9",
   "metadata": {},
   "outputs": [
    {
     "name": "stdout",
     "output_type": "stream",
     "text": [
      "Start Smile-GAN for semi-supervised clustering\n",
      "****** Starting training of Fold 0 ******\n"
     ]
    },
    {
     "name": "stderr",
     "output_type": "stream",
     "text": [
      "\n",
      "\n",
      "  0%|          | 0/15000 [00:00<?, ?it/s]\u001b[A\u001b[A\n",
      "\n",
      "  0%|          | 2/15000 [00:00<12:30, 19.99it/s]\u001b[A\u001b[A\n",
      "\n",
      "  0%|          | 4/15000 [00:00<20:04, 12.45it/s]\u001b[A\u001b[A\n",
      "\n",
      "  0%|          | 6/15000 [00:00<22:46, 10.97it/s]\u001b[A\u001b[A\n",
      "\n",
      "  0%|          | 8/15000 [00:00<23:33, 10.61it/s]\u001b[A\u001b[A\n",
      "\n",
      "  0%|          | 10/15000 [00:00<24:01, 10.40it/s]\u001b[A\u001b[A\n",
      "\n",
      "  0%|          | 12/15000 [00:01<24:59, 10.00it/s]\u001b[A\u001b[A\n",
      "\n",
      "  0%|          | 14/15000 [00:01<24:54, 10.03it/s]\u001b[A\u001b[A\n",
      "\n",
      "  0%|          | 16/15000 [00:01<25:33,  9.77it/s]\u001b[A\u001b[A\n",
      "\n",
      "  0%|          | 17/15000 [00:01<25:37,  9.74it/s]\u001b[A\u001b[A\n",
      "\n",
      "  0%|          | 18/15000 [00:01<25:51,  9.66it/s]\u001b[A\u001b[A\n",
      "\n",
      "  0%|          | 19/15000 [00:01<25:46,  9.69it/s]\u001b[A\u001b[A\n",
      "\n",
      "  0%|          | 20/15000 [00:01<25:34,  9.76it/s]\u001b[A\u001b[A\n",
      "\n",
      "  0%|          | 21/15000 [00:02<25:56,  9.63it/s]\u001b[A\u001b[A\n",
      "\n",
      "  0%|          | 23/15000 [00:02<25:31,  9.78it/s]\u001b[A\u001b[A\n",
      "\n",
      "  0%|          | 24/15000 [00:02<25:33,  9.76it/s]\u001b[A\u001b[A\n",
      "\n",
      "  0%|          | 26/15000 [00:02<25:28,  9.80it/s]\u001b[A\u001b[A\n",
      "\n",
      "  0%|          | 27/15000 [00:02<25:24,  9.82it/s]\u001b[A\u001b[A\n",
      "\n",
      "  0%|          | 28/15000 [00:02<25:25,  9.82it/s]\u001b[A\u001b[A\n",
      "\n",
      "  0%|          | 30/15000 [00:02<25:10,  9.91it/s]\u001b[A\u001b[A\n",
      "\n",
      "  0%|          | 31/15000 [00:03<25:46,  9.68it/s]\u001b[A\u001b[A\n",
      "\n",
      "  0%|          | 32/15000 [00:03<26:03,  9.57it/s]\u001b[A\u001b[A\n",
      "\n",
      "  0%|          | 33/15000 [00:03<26:25,  9.44it/s]\u001b[A\u001b[A\n",
      "\n",
      "  0%|          | 34/15000 [00:03<26:21,  9.46it/s]\u001b[A\u001b[A\n",
      "\n",
      "  0%|          | 35/15000 [00:03<26:02,  9.58it/s]\u001b[A\u001b[A\n",
      "\n",
      "  0%|          | 36/15000 [00:03<26:51,  9.29it/s]\u001b[A\u001b[A\n",
      "\n",
      "  2%|▏         | 224/14000 [01:00<1:02:27,  3.68it/s]\u001b[A\n",
      "  4%|▎         | 89/2500 [00:22<10:21,  3.88it/s]\n"
     ]
    },
    {
     "ename": "KeyboardInterrupt",
     "evalue": "",
     "output_type": "error",
     "traceback": [
      "\u001b[1;31m---------------------------------------------------------------------------\u001b[0m",
      "\u001b[1;31mKeyboardInterrupt\u001b[0m                         Traceback (most recent call last)",
      "Cell \u001b[1;32mIn[14], line 3\u001b[0m\n\u001b[0;32m      1\u001b[0m fold_number \u001b[38;5;241m=\u001b[39m \u001b[38;5;241m10\u001b[39m  \u001b[38;5;66;03m# number of folds the leave-out cv runs\u001b[39;00m\n\u001b[0;32m      2\u001b[0m data_fraction \u001b[38;5;241m=\u001b[39m \u001b[38;5;241m0.8\u001b[39m \u001b[38;5;66;03m# fraction of data used in each fold\u001b[39;00m\n\u001b[1;32m----> 3\u001b[0m \u001b[43mcross_validated_clustering\u001b[49m\u001b[43m(\u001b[49m\u001b[43mtrain_data\u001b[49m\u001b[43m,\u001b[49m\u001b[43m \u001b[49m\u001b[43mncluster\u001b[49m\u001b[43m,\u001b[49m\u001b[43m \u001b[49m\u001b[43mfold_number\u001b[49m\u001b[43m,\u001b[49m\u001b[43m \u001b[49m\u001b[43mdata_fraction\u001b[49m\u001b[43m,\u001b[49m\u001b[43m \u001b[49m\u001b[43mstart_saving_epoch\u001b[49m\u001b[43m,\u001b[49m\u001b[43m \u001b[49m\u001b[43mmax_epoch\u001b[49m\u001b[43m,\u001b[49m\u001b[43m \u001b[49m\u001b[43moutput_dir\u001b[49m\u001b[43m,\u001b[49m\u001b[43m \u001b[49m\u001b[43mWD\u001b[49m\u001b[43m,\u001b[49m\u001b[43m \u001b[49m\u001b[43mAQ\u001b[49m\u001b[43m,\u001b[49m\u001b[43m \u001b[49m\u001b[43mcluster_loss\u001b[49m\u001b[43m,\u001b[49m\u001b[43m \u001b[49m\u001b[43mconsensus_type\u001b[49m\u001b[43m)\u001b[49m\n",
      "File \u001b[1;32m~\\anaconda3\\envs\\deepcare\\lib\\site-packages\\SmileGAN\\Smile_GAN_clustering.py:232\u001b[0m, in \u001b[0;36mcross_validated_clustering\u001b[1;34m(data, ncluster, fold_number, fraction, start_saving_epoch, max_epoch, output_dir, WD_threshold, AQ_threshold, cluster_loss_threshold, consensus_type, covariate, lam, mu, batchSize, lipschitz_k, verbose, beta1, lr, max_gnorm, eval_freq, save_epoch_freq, start_fold, stop_fold, check_outlier, std_in_WD)\u001b[0m\n\u001b[0;32m    230\u001b[0m \u001b[38;5;28mprint\u001b[39m(\u001b[38;5;124m'\u001b[39m\u001b[38;5;124m****** Starting training of Fold \u001b[39m\u001b[38;5;124m'\u001b[39m\u001b[38;5;241m+\u001b[39m\u001b[38;5;28mstr\u001b[39m(i)\u001b[38;5;241m+\u001b[39m\u001b[38;5;124m\"\u001b[39m\u001b[38;5;124m ******\u001b[39m\u001b[38;5;124m\"\u001b[39m)\n\u001b[0;32m    231\u001b[0m saved_model_name \u001b[38;5;241m=\u001b[39m \u001b[38;5;124m'\u001b[39m\u001b[38;5;124mconverged_model_fold\u001b[39m\u001b[38;5;124m'\u001b[39m\u001b[38;5;241m+\u001b[39m\u001b[38;5;28mstr\u001b[39m(i)\n\u001b[1;32m--> 232\u001b[0m converge \u001b[38;5;241m=\u001b[39m \u001b[43mSmile_GAN_model\u001b[49m\u001b[38;5;241;43m.\u001b[39;49m\u001b[43mtrain\u001b[49m\u001b[43m(\u001b[49m\u001b[43msaved_model_name\u001b[49m\u001b[43m,\u001b[49m\u001b[43m \u001b[49m\u001b[43mdata\u001b[49m\u001b[43m,\u001b[49m\u001b[43m \u001b[49m\u001b[43mcovariate\u001b[49m\u001b[43m,\u001b[49m\u001b[43m \u001b[49m\u001b[43moutput_dir\u001b[49m\u001b[43m,\u001b[49m\u001b[43m \u001b[49m\u001b[43mrandom_seed\u001b[49m\u001b[38;5;241;43m=\u001b[39;49m\u001b[43mi\u001b[49m\u001b[43m,\u001b[49m\u001b[43m \u001b[49m\u001b[43mdata_fraction\u001b[49m\u001b[43m \u001b[49m\u001b[38;5;241;43m=\u001b[39;49m\u001b[43m \u001b[49m\u001b[43mfraction\u001b[49m\u001b[43m,\u001b[49m\u001b[43m \u001b[49m\u001b[43mverbose\u001b[49m\u001b[43m \u001b[49m\u001b[38;5;241;43m=\u001b[39;49m\u001b[43m \u001b[49m\u001b[43mverbose\u001b[49m\u001b[43m,\u001b[49m\u001b[43m \u001b[49m\u001b[43mstd_in_wdistance\u001b[49m\u001b[43m \u001b[49m\u001b[38;5;241;43m=\u001b[39;49m\u001b[43m \u001b[49m\u001b[43mstd_in_WD\u001b[49m\u001b[43m)\u001b[49m\n\u001b[0;32m    233\u001b[0m \u001b[38;5;28;01mwhile\u001b[39;00m \u001b[38;5;129;01mnot\u001b[39;00m converge:\n\u001b[0;32m    234\u001b[0m \t\u001b[38;5;28mprint\u001b[39m(\u001b[38;5;124m\"\u001b[39m\u001b[38;5;124m****** Model not converging or not converged at max interation, Start retraining ******\u001b[39m\u001b[38;5;124m\"\u001b[39m)\n",
      "File \u001b[1;32m~\\anaconda3\\envs\\deepcare\\lib\\site-packages\\SmileGAN\\clustering.py:102\u001b[0m, in \u001b[0;36mSmile_GAN_train.train\u001b[1;34m(self, model_name, data, covariate, save_dir, random_seed, data_fraction, verbose, independent_ROI, std_in_wdistance)\u001b[0m\n\u001b[0;32m     99\u001b[0m total_steps \u001b[38;5;241m+\u001b[39m\u001b[38;5;241m=\u001b[39m \u001b[38;5;28mself\u001b[39m\u001b[38;5;241m.\u001b[39mopt\u001b[38;5;241m.\u001b[39mbatchsize\n\u001b[0;32m    100\u001b[0m epoch_iter \u001b[38;5;241m+\u001b[39m\u001b[38;5;241m=\u001b[39m \u001b[38;5;28mself\u001b[39m\u001b[38;5;241m.\u001b[39mopt\u001b[38;5;241m.\u001b[39mbatchsize\n\u001b[1;32m--> 102\u001b[0m losses \u001b[38;5;241m=\u001b[39m \u001b[43mmodel\u001b[49m\u001b[38;5;241;43m.\u001b[39;49m\u001b[43mtrain_instance\u001b[49m\u001b[43m(\u001b[49m\u001b[43mreal_X\u001b[49m\u001b[43m,\u001b[49m\u001b[43m \u001b[49m\u001b[43mreal_Y\u001b[49m\u001b[43m)\u001b[49m\n\u001b[0;32m    104\u001b[0m \u001b[38;5;28;01mif\u001b[39;00m total_steps \u001b[38;5;241m%\u001b[39m \u001b[38;5;28mself\u001b[39m\u001b[38;5;241m.\u001b[39mopt\u001b[38;5;241m.\u001b[39mprint_freq \u001b[38;5;241m==\u001b[39m \u001b[38;5;241m0\u001b[39m:\n\u001b[0;32m    105\u001b[0m     t \u001b[38;5;241m=\u001b[39m (time\u001b[38;5;241m.\u001b[39mtime() \u001b[38;5;241m-\u001b[39m print_start_time) \u001b[38;5;241m/\u001b[39m \u001b[38;5;28mself\u001b[39m\u001b[38;5;241m.\u001b[39mopt\u001b[38;5;241m.\u001b[39mbatchsize\n",
      "File \u001b[1;32m~\\anaconda3\\envs\\deepcare\\lib\\site-packages\\SmileGAN\\model.py:97\u001b[0m, in \u001b[0;36mSmileGAN.train_instance\u001b[1;34m(self, x, real_y)\u001b[0m\n\u001b[0;32m     95\u001b[0m \u001b[38;5;28;01mdef\u001b[39;00m \u001b[38;5;21mtrain_instance\u001b[39m(\u001b[38;5;28mself\u001b[39m, x, real_y):\n\u001b[0;32m     96\u001b[0m     z_var, z_index \u001b[38;5;241m=\u001b[39m sample_z(x, \u001b[38;5;28mself\u001b[39m\u001b[38;5;241m.\u001b[39mopt\u001b[38;5;241m.\u001b[39mncluster)\n\u001b[1;32m---> 97\u001b[0m     fake_y \u001b[38;5;241m=\u001b[39m \u001b[38;5;28;43mself\u001b[39;49m\u001b[38;5;241;43m.\u001b[39;49m\u001b[43mnetMapping\u001b[49m\u001b[38;5;241;43m.\u001b[39;49m\u001b[43mforward\u001b[49m\u001b[43m(\u001b[49m\u001b[43mx\u001b[49m\u001b[43m,\u001b[49m\u001b[43mz_var\u001b[49m\u001b[43m)\u001b[49m\u001b[38;5;241m+\u001b[39mx\n\u001b[0;32m     99\u001b[0m     \u001b[38;5;66;03m## Discriminator loss\u001b[39;00m\n\u001b[0;32m    100\u001b[0m     pred_fake_y \u001b[38;5;241m=\u001b[39m \u001b[38;5;28mself\u001b[39m\u001b[38;5;241m.\u001b[39mnetDiscriminator\u001b[38;5;241m.\u001b[39mforward(fake_y\u001b[38;5;241m.\u001b[39mdetach())\n",
      "File \u001b[1;32m~\\anaconda3\\envs\\deepcare\\lib\\site-packages\\SmileGAN\\networks.py:58\u001b[0m, in \u001b[0;36mLMappingGenerator.forward\u001b[1;34m(self, input_x, input_z)\u001b[0m\n\u001b[0;32m     57\u001b[0m \u001b[38;5;28;01mdef\u001b[39;00m \u001b[38;5;21mforward\u001b[39m(\u001b[38;5;28mself\u001b[39m, input_x,input_z):\n\u001b[1;32m---> 58\u001b[0m     \u001b[38;5;28;01mreturn\u001b[39;00m \u001b[38;5;28;43mself\u001b[39;49m\u001b[38;5;241;43m.\u001b[39;49m\u001b[43mmodel\u001b[49m\u001b[43m(\u001b[49m\u001b[43minput_x\u001b[49m\u001b[43m,\u001b[49m\u001b[43minput_z\u001b[49m\u001b[43m)\u001b[49m\n",
      "File \u001b[1;32m~\\anaconda3\\envs\\deepcare\\lib\\site-packages\\torch\\nn\\modules\\module.py:1102\u001b[0m, in \u001b[0;36mModule._call_impl\u001b[1;34m(self, *input, **kwargs)\u001b[0m\n\u001b[0;32m   1098\u001b[0m \u001b[38;5;66;03m# If we don't have any hooks, we want to skip the rest of the logic in\u001b[39;00m\n\u001b[0;32m   1099\u001b[0m \u001b[38;5;66;03m# this function, and just call forward.\u001b[39;00m\n\u001b[0;32m   1100\u001b[0m \u001b[38;5;28;01mif\u001b[39;00m \u001b[38;5;129;01mnot\u001b[39;00m (\u001b[38;5;28mself\u001b[39m\u001b[38;5;241m.\u001b[39m_backward_hooks \u001b[38;5;129;01mor\u001b[39;00m \u001b[38;5;28mself\u001b[39m\u001b[38;5;241m.\u001b[39m_forward_hooks \u001b[38;5;129;01mor\u001b[39;00m \u001b[38;5;28mself\u001b[39m\u001b[38;5;241m.\u001b[39m_forward_pre_hooks \u001b[38;5;129;01mor\u001b[39;00m _global_backward_hooks\n\u001b[0;32m   1101\u001b[0m         \u001b[38;5;129;01mor\u001b[39;00m _global_forward_hooks \u001b[38;5;129;01mor\u001b[39;00m _global_forward_pre_hooks):\n\u001b[1;32m-> 1102\u001b[0m     \u001b[38;5;28;01mreturn\u001b[39;00m \u001b[43mforward_call\u001b[49m\u001b[43m(\u001b[49m\u001b[38;5;241;43m*\u001b[39;49m\u001b[38;5;28;43minput\u001b[39;49m\u001b[43m,\u001b[49m\u001b[43m \u001b[49m\u001b[38;5;241;43m*\u001b[39;49m\u001b[38;5;241;43m*\u001b[39;49m\u001b[43mkwargs\u001b[49m\u001b[43m)\u001b[49m\n\u001b[0;32m   1103\u001b[0m \u001b[38;5;66;03m# Do not call functions when jit is used\u001b[39;00m\n\u001b[0;32m   1104\u001b[0m full_backward_hooks, non_full_backward_hooks \u001b[38;5;241m=\u001b[39m [], []\n",
      "File \u001b[1;32m~\\anaconda3\\envs\\deepcare\\lib\\site-packages\\SmileGAN\\modules.py:28\u001b[0m, in \u001b[0;36mTwoInputSequential.forward\u001b[1;34m(self, input1, input2)\u001b[0m\n\u001b[0;32m     26\u001b[0m         input1 \u001b[38;5;241m=\u001b[39m module\u001b[38;5;241m.\u001b[39mforward(input1, input2)\n\u001b[0;32m     27\u001b[0m     \u001b[38;5;28;01melse\u001b[39;00m:\n\u001b[1;32m---> 28\u001b[0m         input1 \u001b[38;5;241m=\u001b[39m \u001b[43mmodule\u001b[49m\u001b[38;5;241;43m.\u001b[39;49m\u001b[43mforward\u001b[49m\u001b[43m(\u001b[49m\u001b[43minput1\u001b[49m\u001b[43m)\u001b[49m\n\u001b[0;32m     29\u001b[0m \u001b[38;5;28;01mreturn\u001b[39;00m input1\n",
      "File \u001b[1;32m~\\anaconda3\\envs\\deepcare\\lib\\site-packages\\torch\\nn\\modules\\linear.py:103\u001b[0m, in \u001b[0;36mLinear.forward\u001b[1;34m(self, input)\u001b[0m\n\u001b[0;32m    102\u001b[0m \u001b[38;5;28;01mdef\u001b[39;00m \u001b[38;5;21mforward\u001b[39m(\u001b[38;5;28mself\u001b[39m, \u001b[38;5;28minput\u001b[39m: Tensor) \u001b[38;5;241m-\u001b[39m\u001b[38;5;241m>\u001b[39m Tensor:\n\u001b[1;32m--> 103\u001b[0m     \u001b[38;5;28;01mreturn\u001b[39;00m \u001b[43mF\u001b[49m\u001b[38;5;241;43m.\u001b[39;49m\u001b[43mlinear\u001b[49m\u001b[43m(\u001b[49m\u001b[38;5;28;43minput\u001b[39;49m\u001b[43m,\u001b[49m\u001b[43m \u001b[49m\u001b[38;5;28;43mself\u001b[39;49m\u001b[38;5;241;43m.\u001b[39;49m\u001b[43mweight\u001b[49m\u001b[43m,\u001b[49m\u001b[43m \u001b[49m\u001b[38;5;28;43mself\u001b[39;49m\u001b[38;5;241;43m.\u001b[39;49m\u001b[43mbias\u001b[49m\u001b[43m)\u001b[49m\n",
      "File \u001b[1;32m~\\anaconda3\\envs\\deepcare\\lib\\site-packages\\torch\\nn\\functional.py:1848\u001b[0m, in \u001b[0;36mlinear\u001b[1;34m(input, weight, bias)\u001b[0m\n\u001b[0;32m   1846\u001b[0m \u001b[38;5;28;01mif\u001b[39;00m has_torch_function_variadic(\u001b[38;5;28minput\u001b[39m, weight, bias):\n\u001b[0;32m   1847\u001b[0m     \u001b[38;5;28;01mreturn\u001b[39;00m handle_torch_function(linear, (\u001b[38;5;28minput\u001b[39m, weight, bias), \u001b[38;5;28minput\u001b[39m, weight, bias\u001b[38;5;241m=\u001b[39mbias)\n\u001b[1;32m-> 1848\u001b[0m \u001b[38;5;28;01mreturn\u001b[39;00m \u001b[43mtorch\u001b[49m\u001b[38;5;241;43m.\u001b[39;49m\u001b[43m_C\u001b[49m\u001b[38;5;241;43m.\u001b[39;49m\u001b[43m_nn\u001b[49m\u001b[38;5;241;43m.\u001b[39;49m\u001b[43mlinear\u001b[49m\u001b[43m(\u001b[49m\u001b[38;5;28;43minput\u001b[39;49m\u001b[43m,\u001b[49m\u001b[43m \u001b[49m\u001b[43mweight\u001b[49m\u001b[43m,\u001b[49m\u001b[43m \u001b[49m\u001b[43mbias\u001b[49m\u001b[43m)\u001b[49m\n",
      "\u001b[1;31mKeyboardInterrupt\u001b[0m: "
     ]
    }
   ],
   "source": [
    "fold_number = 10  # number of folds the leave-out cv runs\n",
    "data_fraction = 0.8 # fraction of data used in each fold\n",
    "cross_validated_clustering(train_data, ncluster, fold_number, data_fraction, start_saving_epoch, max_epoch, output_dir, WD, AQ, cluster_loss, consensus_type)"
   ]
  },
  {
   "cell_type": "code",
   "execution_count": null,
   "id": "4f4fcecf-be2b-4744-8cb5-6a050f921a8f",
   "metadata": {},
   "outputs": [],
   "source": []
  }
 ],
 "metadata": {
  "kernelspec": {
   "display_name": "deepcare",
   "language": "python",
   "name": "deepcare"
  },
  "language_info": {
   "codemirror_mode": {
    "name": "ipython",
    "version": 3
   },
   "file_extension": ".py",
   "mimetype": "text/x-python",
   "name": "python",
   "nbconvert_exporter": "python",
   "pygments_lexer": "ipython3",
   "version": "3.8.0"
  }
 },
 "nbformat": 4,
 "nbformat_minor": 5
}
