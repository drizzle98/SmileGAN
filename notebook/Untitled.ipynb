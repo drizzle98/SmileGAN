{
 "cells": [
  {
   "cell_type": "code",
   "execution_count": 1,
   "id": "0c13eb76-ea56-40c5-a367-6185c6c78f75",
   "metadata": {},
   "outputs": [
    {
     "name": "stderr",
     "output_type": "stream",
     "text": [
      "C:\\Users\\drizzle\\anaconda3\\envs\\deepcare\\lib\\site-packages\\tqdm\\auto.py:22: TqdmWarning: IProgress not found. Please update jupyter and ipywidgets. See https://ipywidgets.readthedocs.io/en/stable/user_install.html\n",
      "  from .autonotebook import tqdm as notebook_tqdm\n"
     ]
    }
   ],
   "source": [
    "from SmileGAN.Smile_GAN_clustering import single_model_clustering, cross_validated_clustering, clustering_result\n",
    "import pandas as pd\n",
    "import numpy as np\n",
    "from sklearn.model_selection import train_test_split"
   ]
  },
  {
   "cell_type": "code",
   "execution_count": 2,
   "id": "ef4b2268-b3d8-41fb-8965-94f59f4bfbdc",
   "metadata": {},
   "outputs": [
    {
     "name": "stderr",
     "output_type": "stream",
     "text": [
      "C:\\Users\\drizzle\\AppData\\Local\\Temp\\ipykernel_224\\4265215034.py:1: DtypeWarning: Columns (471,473,474,487,488,489,490,491,492,493,494,495,496,497,498,499,500,501,502,503,504,505,506,507,508,509,510,511,512,513,514,515,516,517,518,519,520,521,522,523,524,525,526,527,528,529,530,531,532,533,534,535,536,537,538,539,540,541,542,543,544,545,546,547,548,549,550,551,552,553,554,555,556,557,558,559,560,561,562,563,569,570,572,573,574,575,576,577,578,579,580,581,582,583,584,585,586,587,588,589,590,591,592,593,594,595,596,597,599,601,606,607,608,609,610,611,612,613,614,615,616,617,618,619,620,621,624,625,626,627,628,629,630,631,632,633,634,636,637,638,639,640,641,642,643,644,645,646,647,648,649,650,651,652,653,654,655,656,657,658,659,660,661,663,664,665,666,667,668,669,670,671,672,673,674,675,676,677,678,679,680,681,682,683,684,685,686,687,688,689,690,691,692,693,694,695,696,697,698,699,700,701,702,703,704,705,706,707,708,709,710,711,712,713,714,715,716,717,718,719,720,721,722,723,724,725,726,727,728,729,730,731,732,733,734,735,736,737,738,739,745,746,748,749,750,751,752,753,754,755,756,757,758,759,760,761,762,763,764,765,766,767,770,771,776,777,778,779,780,781,782,783,784,785,786,787,788,789,790,791,794,795,797,798,799,800,801,802,803,804,806,807,808,809,810,811,812,813,814,815,816,817,818,819,820,821,822,823,824,825,826,827,828,829,830,831) have mixed types. Specify dtype option on import or set low_memory=False.\n",
      "  d1_2 = pd.read_csv('../tadpole/TADPOLE_D1_D2.csv')\n"
     ]
    }
   ],
   "source": [
    "d1_2 = pd.read_csv('../tadpole/TADPOLE_D1_D2.csv')"
   ]
  },
  {
   "cell_type": "code",
   "execution_count": 3,
   "id": "02b02e49-1435-46e5-b172-8f0d0c55b269",
   "metadata": {},
   "outputs": [],
   "source": [
    "dx_id_dict = {}\n",
    "for i in d1_2['DX_bl'].unique():\n",
    "    if i == 'CN':\n",
    "        dx_id_dict[i] = 1\n",
    "    else:\n",
    "        dx_id_dict[i] = -1"
   ]
  },
  {
   "cell_type": "code",
   "execution_count": 4,
   "id": "0b60db6d-2b3f-4662-82f9-9a5845e6383c",
   "metadata": {},
   "outputs": [],
   "source": [
    "roi_list = sorted(list(filter(lambda x: x.startswith('ST'),list(d1_2.columns))))[:-5]"
   ]
  },
  {
   "cell_type": "code",
   "execution_count": 5,
   "id": "a767b39b-11e1-4810-9320-aca449eeab73",
   "metadata": {},
   "outputs": [],
   "source": [
    "roi_type = list(set([x.split('_')[0][-2:] for x in roi_list]))"
   ]
  },
  {
   "cell_type": "code",
   "execution_count": 6,
   "id": "da4d86e3-cb5c-45c1-93c5-1dded1380f68",
   "metadata": {},
   "outputs": [
    {
     "name": "stdout",
     "output_type": "stream",
     "text": [
      "['SV', 'CV', 'SA', 'TA', 'TS']\n"
     ]
    }
   ],
   "source": [
    "print(roi_type)"
   ]
  },
  {
   "cell_type": "code",
   "execution_count": 7,
   "id": "d4584bf9-a8d7-4be2-9dae-43057f692f02",
   "metadata": {},
   "outputs": [],
   "source": [
    "TA_list = [x for x in roi_list if x.split('_')[0][-2:] == 'TA']\n",
    "SA_list = [x for x in roi_list if x.split('_')[0][-2:] == 'SA']\n",
    "TS_list = [x for x in roi_list if x.split('_')[0][-2:] == 'TS']\n",
    "SV_list = [x for x in roi_list if x.split('_')[0][-2:] == 'SV']\n",
    "CV_list = [x for x in roi_list if x.split('_')[0][-2:] == 'CV']"
   ]
  },
  {
   "cell_type": "code",
   "execution_count": 8,
   "id": "04b6b327-9dc0-4dd9-bf4b-fa0335926b87",
   "metadata": {},
   "outputs": [],
   "source": [
    "def get_type_df(df,roi_list,dx_id_dict):\n",
    "    clms = ['RID','DX_bl','AGE']\n",
    "    clms += roi_list\n",
    "    data = df[clms].rename(columns={\"RID\": \"participant_id\", \"DX_bl\": \"diagnosis\"})\n",
    "    data = data.replace(' ',np.nan)\n",
    "    data['diagnosis'] = data['diagnosis'].map(dx_id_dict)\n",
    "    data.dropna(axis=1,how='all',inplace=True)\n",
    "    data = data.dropna(axis=1,thresh = 7650).apply(pd.to_numeric)\n",
    "    data = data.groupby('participant_id').first().reset_index()\n",
    "    \n",
    "    # Change to ROI0 - ROIn\n",
    "    clm_name = {}\n",
    "    clm_names = data.columns[3:]\n",
    "    for i in range(len(clm_names)):\n",
    "        clm_name[clm_names[i]] = f'ROI{i}'\n",
    "    data = data.rename(columns=clm_name)\n",
    "    train_id,test_id = train_test_split(data['participant_id'],test_size=0.2,random_state=42)\n",
    "    train = data[data['participant_id'].isin(train_id)]\n",
    "    train = train.apply(lambda x: x.fillna(x.mean()),axis=0)\n",
    "    test = data[data['participant_id'].isin(test_id)]\n",
    "    test = test.apply(lambda x: x.fillna(x.mean()),axis=0)\n",
    "    \n",
    "    return train, test"
   ]
  },
  {
   "cell_type": "code",
   "execution_count": 9,
   "id": "3b0ef124-ba3b-40ac-85be-7745de44d343",
   "metadata": {},
   "outputs": [],
   "source": [
    "TA_train,TA_test = get_type_df(d1_2, TA_list, dx_id_dict)"
   ]
  },
  {
   "cell_type": "code",
   "execution_count": 10,
   "id": "a81d62b9-55e4-491d-9187-58bff9867c7c",
   "metadata": {},
   "outputs": [
    {
     "data": {
      "text/plain": [
       "(1389, 1389)"
      ]
     },
     "execution_count": 10,
     "metadata": {},
     "output_type": "execute_result"
    }
   ],
   "source": [
    "len(TA_train),len(TA_train['participant_id'].unique())"
   ]
  },
  {
   "cell_type": "code",
   "execution_count": 11,
   "id": "6aad6e2b-0cb9-45ba-a98f-81825b543321",
   "metadata": {},
   "outputs": [
    {
     "data": {
      "text/plain": [
       "(1389, 71)"
      ]
     },
     "execution_count": 11,
     "metadata": {},
     "output_type": "execute_result"
    }
   ],
   "source": [
    "TA_train.shape"
   ]
  },
  {
   "cell_type": "code",
   "execution_count": 12,
   "id": "5c486450-110f-44bd-ac24-b3c855a2e60f",
   "metadata": {},
   "outputs": [
    {
     "data": {
      "text/html": [
       "<div>\n",
       "<style scoped>\n",
       "    .dataframe tbody tr th:only-of-type {\n",
       "        vertical-align: middle;\n",
       "    }\n",
       "\n",
       "    .dataframe tbody tr th {\n",
       "        vertical-align: top;\n",
       "    }\n",
       "\n",
       "    .dataframe thead th {\n",
       "        text-align: right;\n",
       "    }\n",
       "</style>\n",
       "<table border=\"1\" class=\"dataframe\">\n",
       "  <thead>\n",
       "    <tr style=\"text-align: right;\">\n",
       "      <th></th>\n",
       "      <th>participant_id</th>\n",
       "      <th>diagnosis</th>\n",
       "      <th>AGE</th>\n",
       "      <th>ROI0</th>\n",
       "      <th>ROI1</th>\n",
       "      <th>ROI2</th>\n",
       "      <th>ROI3</th>\n",
       "      <th>ROI4</th>\n",
       "      <th>ROI5</th>\n",
       "      <th>ROI6</th>\n",
       "      <th>...</th>\n",
       "      <th>ROI58</th>\n",
       "      <th>ROI59</th>\n",
       "      <th>ROI60</th>\n",
       "      <th>ROI61</th>\n",
       "      <th>ROI62</th>\n",
       "      <th>ROI63</th>\n",
       "      <th>ROI64</th>\n",
       "      <th>ROI65</th>\n",
       "      <th>ROI66</th>\n",
       "      <th>ROI67</th>\n",
       "    </tr>\n",
       "  </thead>\n",
       "  <tbody>\n",
       "    <tr>\n",
       "      <th>0</th>\n",
       "      <td>2</td>\n",
       "      <td>1</td>\n",
       "      <td>74.3</td>\n",
       "      <td>2.332</td>\n",
       "      <td>3.190</td>\n",
       "      <td>2.462</td>\n",
       "      <td>2.301</td>\n",
       "      <td>2.141</td>\n",
       "      <td>1.529</td>\n",
       "      <td>1.766</td>\n",
       "      <td>...</td>\n",
       "      <td>2.388</td>\n",
       "      <td>2.727</td>\n",
       "      <td>2.243</td>\n",
       "      <td>2.901</td>\n",
       "      <td>2.429</td>\n",
       "      <td>2.085</td>\n",
       "      <td>2.344</td>\n",
       "      <td>2.079</td>\n",
       "      <td>2.077</td>\n",
       "      <td>3.028</td>\n",
       "    </tr>\n",
       "    <tr>\n",
       "      <th>1</th>\n",
       "      <td>3</td>\n",
       "      <td>-1</td>\n",
       "      <td>81.3</td>\n",
       "      <td>2.121</td>\n",
       "      <td>2.214</td>\n",
       "      <td>2.295</td>\n",
       "      <td>2.280</td>\n",
       "      <td>2.323</td>\n",
       "      <td>1.294</td>\n",
       "      <td>1.675</td>\n",
       "      <td>...</td>\n",
       "      <td>2.603</td>\n",
       "      <td>2.318</td>\n",
       "      <td>2.190</td>\n",
       "      <td>2.377</td>\n",
       "      <td>2.052</td>\n",
       "      <td>1.994</td>\n",
       "      <td>2.173</td>\n",
       "      <td>1.765</td>\n",
       "      <td>1.942</td>\n",
       "      <td>2.545</td>\n",
       "    </tr>\n",
       "    <tr>\n",
       "      <th>2</th>\n",
       "      <td>4</td>\n",
       "      <td>-1</td>\n",
       "      <td>67.5</td>\n",
       "      <td>1.911</td>\n",
       "      <td>2.684</td>\n",
       "      <td>2.332</td>\n",
       "      <td>2.523</td>\n",
       "      <td>1.999</td>\n",
       "      <td>1.390</td>\n",
       "      <td>1.934</td>\n",
       "      <td>...</td>\n",
       "      <td>2.286</td>\n",
       "      <td>2.550</td>\n",
       "      <td>2.202</td>\n",
       "      <td>2.756</td>\n",
       "      <td>2.495</td>\n",
       "      <td>1.890</td>\n",
       "      <td>2.428</td>\n",
       "      <td>1.929</td>\n",
       "      <td>2.180</td>\n",
       "      <td>2.670</td>\n",
       "    </tr>\n",
       "    <tr>\n",
       "      <th>3</th>\n",
       "      <td>5</td>\n",
       "      <td>1</td>\n",
       "      <td>73.7</td>\n",
       "      <td>2.065</td>\n",
       "      <td>2.650</td>\n",
       "      <td>2.578</td>\n",
       "      <td>2.446</td>\n",
       "      <td>2.099</td>\n",
       "      <td>1.373</td>\n",
       "      <td>1.898</td>\n",
       "      <td>...</td>\n",
       "      <td>2.783</td>\n",
       "      <td>2.626</td>\n",
       "      <td>2.306</td>\n",
       "      <td>2.761</td>\n",
       "      <td>2.451</td>\n",
       "      <td>1.976</td>\n",
       "      <td>2.571</td>\n",
       "      <td>1.914</td>\n",
       "      <td>2.543</td>\n",
       "      <td>2.911</td>\n",
       "    </tr>\n",
       "    <tr>\n",
       "      <th>4</th>\n",
       "      <td>6</td>\n",
       "      <td>-1</td>\n",
       "      <td>80.4</td>\n",
       "      <td>2.301</td>\n",
       "      <td>2.212</td>\n",
       "      <td>2.480</td>\n",
       "      <td>2.870</td>\n",
       "      <td>2.264</td>\n",
       "      <td>1.305</td>\n",
       "      <td>1.724</td>\n",
       "      <td>...</td>\n",
       "      <td>2.780</td>\n",
       "      <td>2.398</td>\n",
       "      <td>2.419</td>\n",
       "      <td>2.768</td>\n",
       "      <td>2.745</td>\n",
       "      <td>2.257</td>\n",
       "      <td>2.456</td>\n",
       "      <td>1.790</td>\n",
       "      <td>2.141</td>\n",
       "      <td>2.900</td>\n",
       "    </tr>\n",
       "    <tr>\n",
       "      <th>...</th>\n",
       "      <td>...</td>\n",
       "      <td>...</td>\n",
       "      <td>...</td>\n",
       "      <td>...</td>\n",
       "      <td>...</td>\n",
       "      <td>...</td>\n",
       "      <td>...</td>\n",
       "      <td>...</td>\n",
       "      <td>...</td>\n",
       "      <td>...</td>\n",
       "      <td>...</td>\n",
       "      <td>...</td>\n",
       "      <td>...</td>\n",
       "      <td>...</td>\n",
       "      <td>...</td>\n",
       "      <td>...</td>\n",
       "      <td>...</td>\n",
       "      <td>...</td>\n",
       "      <td>...</td>\n",
       "      <td>...</td>\n",
       "      <td>...</td>\n",
       "    </tr>\n",
       "    <tr>\n",
       "      <th>1731</th>\n",
       "      <td>5289</td>\n",
       "      <td>-1</td>\n",
       "      <td>59.7</td>\n",
       "      <td>2.359</td>\n",
       "      <td>3.170</td>\n",
       "      <td>2.408</td>\n",
       "      <td>2.562</td>\n",
       "      <td>2.260</td>\n",
       "      <td>1.583</td>\n",
       "      <td>1.898</td>\n",
       "      <td>...</td>\n",
       "      <td>2.426</td>\n",
       "      <td>2.677</td>\n",
       "      <td>2.415</td>\n",
       "      <td>2.987</td>\n",
       "      <td>2.612</td>\n",
       "      <td>2.355</td>\n",
       "      <td>2.375</td>\n",
       "      <td>2.081</td>\n",
       "      <td>2.195</td>\n",
       "      <td>2.965</td>\n",
       "    </tr>\n",
       "    <tr>\n",
       "      <th>1732</th>\n",
       "      <td>5290</td>\n",
       "      <td>-1</td>\n",
       "      <td>67.0</td>\n",
       "      <td>2.318</td>\n",
       "      <td>2.922</td>\n",
       "      <td>2.584</td>\n",
       "      <td>2.508</td>\n",
       "      <td>2.510</td>\n",
       "      <td>1.964</td>\n",
       "      <td>2.151</td>\n",
       "      <td>...</td>\n",
       "      <td>2.477</td>\n",
       "      <td>2.777</td>\n",
       "      <td>2.465</td>\n",
       "      <td>2.725</td>\n",
       "      <td>2.445</td>\n",
       "      <td>2.279</td>\n",
       "      <td>2.561</td>\n",
       "      <td>2.117</td>\n",
       "      <td>2.204</td>\n",
       "      <td>2.933</td>\n",
       "    </tr>\n",
       "    <tr>\n",
       "      <th>1733</th>\n",
       "      <td>5292</td>\n",
       "      <td>-1</td>\n",
       "      <td>74.3</td>\n",
       "      <td>2.347</td>\n",
       "      <td>2.868</td>\n",
       "      <td>2.550</td>\n",
       "      <td>2.440</td>\n",
       "      <td>2.343</td>\n",
       "      <td>1.500</td>\n",
       "      <td>2.031</td>\n",
       "      <td>...</td>\n",
       "      <td>2.742</td>\n",
       "      <td>2.819</td>\n",
       "      <td>2.406</td>\n",
       "      <td>2.701</td>\n",
       "      <td>2.337</td>\n",
       "      <td>2.090</td>\n",
       "      <td>2.403</td>\n",
       "      <td>2.135</td>\n",
       "      <td>2.115</td>\n",
       "      <td>2.819</td>\n",
       "    </tr>\n",
       "    <tr>\n",
       "      <th>1734</th>\n",
       "      <td>5294</td>\n",
       "      <td>-1</td>\n",
       "      <td>68.5</td>\n",
       "      <td>2.315</td>\n",
       "      <td>2.966</td>\n",
       "      <td>2.487</td>\n",
       "      <td>2.646</td>\n",
       "      <td>2.459</td>\n",
       "      <td>1.822</td>\n",
       "      <td>2.049</td>\n",
       "      <td>...</td>\n",
       "      <td>2.564</td>\n",
       "      <td>2.665</td>\n",
       "      <td>2.546</td>\n",
       "      <td>2.750</td>\n",
       "      <td>2.353</td>\n",
       "      <td>2.266</td>\n",
       "      <td>2.598</td>\n",
       "      <td>2.146</td>\n",
       "      <td>2.347</td>\n",
       "      <td>2.888</td>\n",
       "    </tr>\n",
       "    <tr>\n",
       "      <th>1736</th>\n",
       "      <td>5296</td>\n",
       "      <td>-1</td>\n",
       "      <td>69.3</td>\n",
       "      <td>2.177</td>\n",
       "      <td>2.842</td>\n",
       "      <td>2.356</td>\n",
       "      <td>2.699</td>\n",
       "      <td>2.488</td>\n",
       "      <td>1.374</td>\n",
       "      <td>1.846</td>\n",
       "      <td>...</td>\n",
       "      <td>2.532</td>\n",
       "      <td>2.749</td>\n",
       "      <td>2.259</td>\n",
       "      <td>2.909</td>\n",
       "      <td>2.289</td>\n",
       "      <td>2.278</td>\n",
       "      <td>2.715</td>\n",
       "      <td>1.790</td>\n",
       "      <td>2.428</td>\n",
       "      <td>2.962</td>\n",
       "    </tr>\n",
       "  </tbody>\n",
       "</table>\n",
       "<p>1389 rows × 71 columns</p>\n",
       "</div>"
      ],
      "text/plain": [
       "      participant_id  diagnosis   AGE   ROI0   ROI1   ROI2   ROI3   ROI4  \\\n",
       "0                  2          1  74.3  2.332  3.190  2.462  2.301  2.141   \n",
       "1                  3         -1  81.3  2.121  2.214  2.295  2.280  2.323   \n",
       "2                  4         -1  67.5  1.911  2.684  2.332  2.523  1.999   \n",
       "3                  5          1  73.7  2.065  2.650  2.578  2.446  2.099   \n",
       "4                  6         -1  80.4  2.301  2.212  2.480  2.870  2.264   \n",
       "...              ...        ...   ...    ...    ...    ...    ...    ...   \n",
       "1731            5289         -1  59.7  2.359  3.170  2.408  2.562  2.260   \n",
       "1732            5290         -1  67.0  2.318  2.922  2.584  2.508  2.510   \n",
       "1733            5292         -1  74.3  2.347  2.868  2.550  2.440  2.343   \n",
       "1734            5294         -1  68.5  2.315  2.966  2.487  2.646  2.459   \n",
       "1736            5296         -1  69.3  2.177  2.842  2.356  2.699  2.488   \n",
       "\n",
       "       ROI5   ROI6  ...  ROI58  ROI59  ROI60  ROI61  ROI62  ROI63  ROI64  \\\n",
       "0     1.529  1.766  ...  2.388  2.727  2.243  2.901  2.429  2.085  2.344   \n",
       "1     1.294  1.675  ...  2.603  2.318  2.190  2.377  2.052  1.994  2.173   \n",
       "2     1.390  1.934  ...  2.286  2.550  2.202  2.756  2.495  1.890  2.428   \n",
       "3     1.373  1.898  ...  2.783  2.626  2.306  2.761  2.451  1.976  2.571   \n",
       "4     1.305  1.724  ...  2.780  2.398  2.419  2.768  2.745  2.257  2.456   \n",
       "...     ...    ...  ...    ...    ...    ...    ...    ...    ...    ...   \n",
       "1731  1.583  1.898  ...  2.426  2.677  2.415  2.987  2.612  2.355  2.375   \n",
       "1732  1.964  2.151  ...  2.477  2.777  2.465  2.725  2.445  2.279  2.561   \n",
       "1733  1.500  2.031  ...  2.742  2.819  2.406  2.701  2.337  2.090  2.403   \n",
       "1734  1.822  2.049  ...  2.564  2.665  2.546  2.750  2.353  2.266  2.598   \n",
       "1736  1.374  1.846  ...  2.532  2.749  2.259  2.909  2.289  2.278  2.715   \n",
       "\n",
       "      ROI65  ROI66  ROI67  \n",
       "0     2.079  2.077  3.028  \n",
       "1     1.765  1.942  2.545  \n",
       "2     1.929  2.180  2.670  \n",
       "3     1.914  2.543  2.911  \n",
       "4     1.790  2.141  2.900  \n",
       "...     ...    ...    ...  \n",
       "1731  2.081  2.195  2.965  \n",
       "1732  2.117  2.204  2.933  \n",
       "1733  2.135  2.115  2.819  \n",
       "1734  2.146  2.347  2.888  \n",
       "1736  1.790  2.428  2.962  \n",
       "\n",
       "[1389 rows x 71 columns]"
      ]
     },
     "execution_count": 12,
     "metadata": {},
     "output_type": "execute_result"
    }
   ],
   "source": [
    "TA_train"
   ]
  },
  {
   "cell_type": "code",
   "execution_count": 13,
   "id": "ee1dde68-a7d6-4d01-ac01-384f52429ada",
   "metadata": {},
   "outputs": [
    {
     "name": "stdout",
     "output_type": "stream",
     "text": [
      "Start Smile-GAN for semi-supervised clustering\n",
      "****** Starting training of Fold 0 ******\n"
     ]
    },
    {
     "name": "stderr",
     "output_type": "stream",
     "text": [
      " 10%|█         | 50/500 [00:02<00:20, 22.02it/s]\n"
     ]
    },
    {
     "name": "stdout",
     "output_type": "stream",
     "text": [
      "****** Model not converging or not converged at max interation, Start retraining ******\n"
     ]
    },
    {
     "name": "stderr",
     "output_type": "stream",
     "text": [
      " 10%|█         | 50/500 [00:02<00:19, 22.96it/s]\n"
     ]
    },
    {
     "name": "stdout",
     "output_type": "stream",
     "text": [
      "****** Model not converging or not converged at max interation, Start retraining ******\n"
     ]
    },
    {
     "name": "stderr",
     "output_type": "stream",
     "text": [
      " 10%|█         | 50/500 [00:02<00:19, 22.92it/s]\n"
     ]
    },
    {
     "name": "stdout",
     "output_type": "stream",
     "text": [
      "****** Model not converging or not converged at max interation, Start retraining ******\n"
     ]
    },
    {
     "name": "stderr",
     "output_type": "stream",
     "text": [
      "  3%|▎         | 16/500 [00:00<00:21, 22.42it/s]\n",
      "KeyboardInterrupt\n",
      "\n"
     ]
    }
   ],
   "source": [
    "output_dir = \"PATH_OUTPUT_DIR\"\n",
    "ncluster = 3\n",
    "start_saving_epoch = 200\n",
    "max_epoch = 500\n",
    "## three parameters for stopping threshold\n",
    "WD = 0.10\n",
    "AQ = 20\n",
    "cluster_loss = 0.0015\n",
    "## one parameter for consensus method\n",
    "consensus_type = \"highest_matching_clustering\"\n",
    "\n",
    "fold_number = 10  # number of folds the leave-out cv runs\n",
    "data_fraction = 0.8 # fraction of data used in each fold\n",
    "cross_validated_clustering(TA_train, ncluster, fold_number, data_fraction, start_saving_epoch, max_epoch, output_dir, WD, AQ, cluster_loss, consensus_type)"
   ]
  },
  {
   "cell_type": "code",
   "execution_count": 14,
   "id": "8c4a0a64-682c-4a73-931e-f0693e6e9446",
   "metadata": {},
   "outputs": [
    {
     "name": "stdout",
     "output_type": "stream",
     "text": [
      "Start Smile-GAN for semi-supervised clustering\n",
      "****** Starting training of Fold 0 ******\n"
     ]
    },
    {
     "name": "stderr",
     "output_type": "stream",
     "text": [
      "\n",
      "  0%|          | 0/500 [00:00<?, ?it/s]\u001b[A\n",
      "  3%|▎         | 13/500 [00:00<00:03, 128.18it/s]\u001b[A\n",
      "  5%|▌         | 26/500 [00:00<00:04, 115.55it/s]\u001b[A\n",
      "  8%|▊         | 38/500 [00:00<00:04, 112.22it/s]\u001b[A\n",
      " 10%|█         | 50/500 [00:00<00:04, 110.61it/s]\u001b[A\n"
     ]
    },
    {
     "name": "stdout",
     "output_type": "stream",
     "text": [
      "****** Model not converging or not converged at max interation, Start retraining ******\n"
     ]
    },
    {
     "name": "stderr",
     "output_type": "stream",
     "text": [
      "\n",
      "  0%|          | 0/500 [00:00<?, ?it/s]\u001b[A\n",
      "  3%|▎         | 13/500 [00:00<00:03, 126.60it/s]\u001b[A\n",
      "  5%|▌         | 26/500 [00:00<00:03, 121.53it/s]\u001b[A\n",
      " 10%|█         | 50/500 [00:00<00:03, 116.77it/s]\u001b[A\n"
     ]
    },
    {
     "name": "stdout",
     "output_type": "stream",
     "text": [
      "****** Model not converging or not converged at max interation, Start retraining ******\n"
     ]
    },
    {
     "name": "stderr",
     "output_type": "stream",
     "text": [
      "\n",
      "  0%|          | 0/500 [00:00<?, ?it/s]\u001b[A\n",
      "  3%|▎         | 13/500 [00:00<00:03, 123.82it/s]\u001b[A\n",
      "  5%|▌         | 26/500 [00:00<00:04, 115.69it/s]\u001b[A\n",
      "  8%|▊         | 38/500 [00:00<00:04, 113.73it/s]\u001b[A\n",
      " 10%|█         | 50/500 [00:00<00:04, 107.75it/s]\u001b[A\n"
     ]
    },
    {
     "name": "stdout",
     "output_type": "stream",
     "text": [
      "****** Model not converging or not converged at max interation, Start retraining ******\n"
     ]
    },
    {
     "name": "stderr",
     "output_type": "stream",
     "text": [
      "\n",
      "  0%|          | 0/500 [00:00<?, ?it/s]\u001b[A\n",
      "  3%|▎         | 13/500 [00:00<00:03, 125.29it/s]\u001b[A\n",
      "  5%|▌         | 26/500 [00:00<00:04, 116.19it/s]\u001b[A\n",
      "  8%|▊         | 38/500 [00:00<00:03, 115.99it/s]\u001b[A\n",
      " 10%|█         | 50/500 [00:00<00:04, 111.69it/s]\u001b[A\n"
     ]
    },
    {
     "name": "stdout",
     "output_type": "stream",
     "text": [
      "****** Model not converging or not converged at max interation, Start retraining ******\n"
     ]
    },
    {
     "name": "stderr",
     "output_type": "stream",
     "text": [
      "\n",
      "  0%|          | 0/500 [00:00<?, ?it/s]\u001b[A"
     ]
    },
    {
     "ename": "KeyboardInterrupt",
     "evalue": "",
     "output_type": "error",
     "traceback": [
      "\u001b[1;31m---------------------------------------------------------------------------\u001b[0m",
      "\u001b[1;31mKeyboardInterrupt\u001b[0m                         Traceback (most recent call last)",
      "Cell \u001b[1;32mIn[14], line 14\u001b[0m\n\u001b[0;32m     12\u001b[0m fold_number \u001b[38;5;241m=\u001b[39m \u001b[38;5;241m10\u001b[39m  \u001b[38;5;66;03m# number of folds the leave-out cv runs\u001b[39;00m\n\u001b[0;32m     13\u001b[0m data_fraction \u001b[38;5;241m=\u001b[39m \u001b[38;5;241m0.8\u001b[39m \u001b[38;5;66;03m# fraction of data used in each fold\u001b[39;00m\n\u001b[1;32m---> 14\u001b[0m \u001b[43mcross_validated_clustering\u001b[49m\u001b[43m(\u001b[49m\u001b[43mTA_test\u001b[49m\u001b[43m,\u001b[49m\u001b[43m \u001b[49m\u001b[43mncluster\u001b[49m\u001b[43m,\u001b[49m\u001b[43m \u001b[49m\u001b[43mfold_number\u001b[49m\u001b[43m,\u001b[49m\u001b[43m \u001b[49m\u001b[43mdata_fraction\u001b[49m\u001b[43m,\u001b[49m\u001b[43m \u001b[49m\u001b[43mstart_saving_epoch\u001b[49m\u001b[43m,\u001b[49m\u001b[43m \u001b[49m\u001b[43mmax_epoch\u001b[49m\u001b[43m,\u001b[49m\u001b[43m \u001b[49m\u001b[43moutput_dir\u001b[49m\u001b[43m,\u001b[49m\u001b[43m \u001b[49m\u001b[43mWD\u001b[49m\u001b[43m,\u001b[49m\u001b[43m \u001b[49m\u001b[43mAQ\u001b[49m\u001b[43m,\u001b[49m\u001b[43m \u001b[49m\u001b[43mcluster_loss\u001b[49m\u001b[43m,\u001b[49m\u001b[43m \u001b[49m\u001b[43mconsensus_type\u001b[49m\u001b[43m)\u001b[49m\n",
      "File \u001b[1;32m~\\anaconda3\\envs\\deepcare\\lib\\site-packages\\SmileGAN\\Smile_GAN_clustering.py:235\u001b[0m, in \u001b[0;36mcross_validated_clustering\u001b[1;34m(data, ncluster, fold_number, fraction, start_saving_epoch, max_epoch, output_dir, WD_threshold, AQ_threshold, cluster_loss_threshold, consensus_type, covariate, lam, mu, batchSize, lipschitz_k, verbose, beta1, lr, max_gnorm, eval_freq, save_epoch_freq, start_fold, stop_fold, check_outlier, std_in_WD)\u001b[0m\n\u001b[0;32m    233\u001b[0m \t\u001b[38;5;28;01mwhile\u001b[39;00m \u001b[38;5;129;01mnot\u001b[39;00m converge:\n\u001b[0;32m    234\u001b[0m \t\t\u001b[38;5;28mprint\u001b[39m(\u001b[38;5;124m\"\u001b[39m\u001b[38;5;124m****** Model not converging or not converged at max interation, Start retraining ******\u001b[39m\u001b[38;5;124m\"\u001b[39m)\n\u001b[1;32m--> 235\u001b[0m \t\tconverge \u001b[38;5;241m=\u001b[39m \u001b[43mSmile_GAN_model\u001b[49m\u001b[38;5;241;43m.\u001b[39;49m\u001b[43mtrain\u001b[49m\u001b[43m(\u001b[49m\u001b[43msaved_model_name\u001b[49m\u001b[43m,\u001b[49m\u001b[43m \u001b[49m\u001b[43mdata\u001b[49m\u001b[43m,\u001b[49m\u001b[43m \u001b[49m\u001b[43mcovariate\u001b[49m\u001b[43m,\u001b[49m\u001b[43m \u001b[49m\u001b[43moutput_dir\u001b[49m\u001b[43m,\u001b[49m\u001b[43m \u001b[49m\u001b[43mrandom_seed\u001b[49m\u001b[38;5;241;43m=\u001b[39;49m\u001b[43mi\u001b[49m\u001b[43m,\u001b[49m\u001b[43m \u001b[49m\u001b[43mdata_fraction\u001b[49m\u001b[43m \u001b[49m\u001b[38;5;241;43m=\u001b[39;49m\u001b[43m \u001b[49m\u001b[43mfraction\u001b[49m\u001b[43m,\u001b[49m\u001b[43m \u001b[49m\u001b[43mverbose\u001b[49m\u001b[43m \u001b[49m\u001b[38;5;241;43m=\u001b[39;49m\u001b[43m \u001b[49m\u001b[43mverbose\u001b[49m\u001b[43m,\u001b[49m\u001b[43m \u001b[49m\u001b[43mstd_in_wdistance\u001b[49m\u001b[43m \u001b[49m\u001b[38;5;241;43m=\u001b[39;49m\u001b[43m \u001b[49m\u001b[43mstd_in_WD\u001b[49m\u001b[43m)\u001b[49m\n\u001b[0;32m    237\u001b[0m \u001b[38;5;28;01mif\u001b[39;00m check_outlier:\n\u001b[0;32m    238\u001b[0m \t\u001b[38;5;28mprint\u001b[39m(\u001b[38;5;124m'\u001b[39m\u001b[38;5;124m****** Start Checking outlier models ******\u001b[39m\u001b[38;5;124m'\u001b[39m)\n",
      "File \u001b[1;32m~\\anaconda3\\envs\\deepcare\\lib\\site-packages\\SmileGAN\\clustering.py:102\u001b[0m, in \u001b[0;36mSmile_GAN_train.train\u001b[1;34m(self, model_name, data, covariate, save_dir, random_seed, data_fraction, verbose, independent_ROI, std_in_wdistance)\u001b[0m\n\u001b[0;32m     99\u001b[0m total_steps \u001b[38;5;241m+\u001b[39m\u001b[38;5;241m=\u001b[39m \u001b[38;5;28mself\u001b[39m\u001b[38;5;241m.\u001b[39mopt\u001b[38;5;241m.\u001b[39mbatchsize\n\u001b[0;32m    100\u001b[0m epoch_iter \u001b[38;5;241m+\u001b[39m\u001b[38;5;241m=\u001b[39m \u001b[38;5;28mself\u001b[39m\u001b[38;5;241m.\u001b[39mopt\u001b[38;5;241m.\u001b[39mbatchsize\n\u001b[1;32m--> 102\u001b[0m losses \u001b[38;5;241m=\u001b[39m \u001b[43mmodel\u001b[49m\u001b[38;5;241;43m.\u001b[39;49m\u001b[43mtrain_instance\u001b[49m\u001b[43m(\u001b[49m\u001b[43mreal_X\u001b[49m\u001b[43m,\u001b[49m\u001b[43m \u001b[49m\u001b[43mreal_Y\u001b[49m\u001b[43m)\u001b[49m\n\u001b[0;32m    104\u001b[0m \u001b[38;5;28;01mif\u001b[39;00m total_steps \u001b[38;5;241m%\u001b[39m \u001b[38;5;28mself\u001b[39m\u001b[38;5;241m.\u001b[39mopt\u001b[38;5;241m.\u001b[39mprint_freq \u001b[38;5;241m==\u001b[39m \u001b[38;5;241m0\u001b[39m:\n\u001b[0;32m    105\u001b[0m     t \u001b[38;5;241m=\u001b[39m (time\u001b[38;5;241m.\u001b[39mtime() \u001b[38;5;241m-\u001b[39m print_start_time) \u001b[38;5;241m/\u001b[39m \u001b[38;5;28mself\u001b[39m\u001b[38;5;241m.\u001b[39mopt\u001b[38;5;241m.\u001b[39mbatchsize\n",
      "File \u001b[1;32m~\\anaconda3\\envs\\deepcare\\lib\\site-packages\\SmileGAN\\model.py:124\u001b[0m, in \u001b[0;36mSmileGAN.train_instance\u001b[1;34m(self, x, real_y)\u001b[0m\n\u001b[0;32m    122\u001b[0m \u001b[38;5;66;03m## update weights of mapping and clustering function\u001b[39;00m\n\u001b[0;32m    123\u001b[0m \u001b[38;5;28mself\u001b[39m\u001b[38;5;241m.\u001b[39moptimizer_M\u001b[38;5;241m.\u001b[39mzero_grad()\n\u001b[1;32m--> 124\u001b[0m \u001b[43mloss_G\u001b[49m\u001b[38;5;241;43m.\u001b[39;49m\u001b[43mbackward\u001b[49m\u001b[43m(\u001b[49m\u001b[43m)\u001b[49m\n\u001b[0;32m    125\u001b[0m gnorm_M \u001b[38;5;241m=\u001b[39m torch\u001b[38;5;241m.\u001b[39mnn\u001b[38;5;241m.\u001b[39mutils\u001b[38;5;241m.\u001b[39mclip_grad_norm_(\u001b[38;5;28mself\u001b[39m\u001b[38;5;241m.\u001b[39mnetMapping\u001b[38;5;241m.\u001b[39mparameters(), \u001b[38;5;28mself\u001b[39m\u001b[38;5;241m.\u001b[39mopt\u001b[38;5;241m.\u001b[39mmax_gnorm)\n\u001b[0;32m    126\u001b[0m \u001b[38;5;28mself\u001b[39m\u001b[38;5;241m.\u001b[39moptimizer_M\u001b[38;5;241m.\u001b[39mstep()\n",
      "File \u001b[1;32m~\\anaconda3\\envs\\deepcare\\lib\\site-packages\\torch\\_tensor.py:307\u001b[0m, in \u001b[0;36mTensor.backward\u001b[1;34m(self, gradient, retain_graph, create_graph, inputs)\u001b[0m\n\u001b[0;32m    298\u001b[0m \u001b[38;5;28;01mif\u001b[39;00m has_torch_function_unary(\u001b[38;5;28mself\u001b[39m):\n\u001b[0;32m    299\u001b[0m     \u001b[38;5;28;01mreturn\u001b[39;00m handle_torch_function(\n\u001b[0;32m    300\u001b[0m         Tensor\u001b[38;5;241m.\u001b[39mbackward,\n\u001b[0;32m    301\u001b[0m         (\u001b[38;5;28mself\u001b[39m,),\n\u001b[1;32m   (...)\u001b[0m\n\u001b[0;32m    305\u001b[0m         create_graph\u001b[38;5;241m=\u001b[39mcreate_graph,\n\u001b[0;32m    306\u001b[0m         inputs\u001b[38;5;241m=\u001b[39minputs)\n\u001b[1;32m--> 307\u001b[0m \u001b[43mtorch\u001b[49m\u001b[38;5;241;43m.\u001b[39;49m\u001b[43mautograd\u001b[49m\u001b[38;5;241;43m.\u001b[39;49m\u001b[43mbackward\u001b[49m\u001b[43m(\u001b[49m\u001b[38;5;28;43mself\u001b[39;49m\u001b[43m,\u001b[49m\u001b[43m \u001b[49m\u001b[43mgradient\u001b[49m\u001b[43m,\u001b[49m\u001b[43m \u001b[49m\u001b[43mretain_graph\u001b[49m\u001b[43m,\u001b[49m\u001b[43m \u001b[49m\u001b[43mcreate_graph\u001b[49m\u001b[43m,\u001b[49m\u001b[43m \u001b[49m\u001b[43minputs\u001b[49m\u001b[38;5;241;43m=\u001b[39;49m\u001b[43minputs\u001b[49m\u001b[43m)\u001b[49m\n",
      "File \u001b[1;32m~\\anaconda3\\envs\\deepcare\\lib\\site-packages\\torch\\autograd\\__init__.py:154\u001b[0m, in \u001b[0;36mbackward\u001b[1;34m(tensors, grad_tensors, retain_graph, create_graph, grad_variables, inputs)\u001b[0m\n\u001b[0;32m    151\u001b[0m \u001b[38;5;28;01mif\u001b[39;00m retain_graph \u001b[38;5;129;01mis\u001b[39;00m \u001b[38;5;28;01mNone\u001b[39;00m:\n\u001b[0;32m    152\u001b[0m     retain_graph \u001b[38;5;241m=\u001b[39m create_graph\n\u001b[1;32m--> 154\u001b[0m \u001b[43mVariable\u001b[49m\u001b[38;5;241;43m.\u001b[39;49m\u001b[43m_execution_engine\u001b[49m\u001b[38;5;241;43m.\u001b[39;49m\u001b[43mrun_backward\u001b[49m\u001b[43m(\u001b[49m\n\u001b[0;32m    155\u001b[0m \u001b[43m    \u001b[49m\u001b[43mtensors\u001b[49m\u001b[43m,\u001b[49m\u001b[43m \u001b[49m\u001b[43mgrad_tensors_\u001b[49m\u001b[43m,\u001b[49m\u001b[43m \u001b[49m\u001b[43mretain_graph\u001b[49m\u001b[43m,\u001b[49m\u001b[43m \u001b[49m\u001b[43mcreate_graph\u001b[49m\u001b[43m,\u001b[49m\u001b[43m \u001b[49m\u001b[43minputs\u001b[49m\u001b[43m,\u001b[49m\n\u001b[0;32m    156\u001b[0m \u001b[43m    \u001b[49m\u001b[43mallow_unreachable\u001b[49m\u001b[38;5;241;43m=\u001b[39;49m\u001b[38;5;28;43;01mTrue\u001b[39;49;00m\u001b[43m,\u001b[49m\u001b[43m \u001b[49m\u001b[43maccumulate_grad\u001b[49m\u001b[38;5;241;43m=\u001b[39;49m\u001b[38;5;28;43;01mTrue\u001b[39;49;00m\u001b[43m)\u001b[49m\n",
      "\u001b[1;31mKeyboardInterrupt\u001b[0m: "
     ]
    }
   ],
   "source": [
    "output_dir = \"PATH_OUTPUT_DIR\"\n",
    "ncluster = 3\n",
    "start_saving_epoch = 200\n",
    "max_epoch = 500\n",
    "## three parameters for stopping threshold\n",
    "WD = 0.10\n",
    "AQ = 20\n",
    "cluster_loss = 0.0015\n",
    "## one parameter for consensus method\n",
    "consensus_type = \"highest_matching_clustering\"\n",
    "\n",
    "fold_number = 10  # number of folds the leave-out cv runs\n",
    "data_fraction = 0.8 # fraction of data used in each fold\n",
    "cross_validated_clustering(TA_test, ncluster, fold_number, data_fraction, start_saving_epoch, max_epoch, output_dir, WD, AQ, cluster_loss, consensus_type)"
   ]
  },
  {
   "cell_type": "code",
   "execution_count": 13,
   "id": "2153d0a4-2956-4172-8201-4b71b253adbd",
   "metadata": {},
   "outputs": [],
   "source": [
    "output_dir = \"../output/\"\n",
    "ncluster = 3\n",
    "start_saving_epoch = 9000\n",
    "max_epoch = 14000"
   ]
  },
  {
   "cell_type": "code",
   "execution_count": 19,
   "id": "aa4653e8-9b67-4168-bfe1-3b0d3ace3351",
   "metadata": {},
   "outputs": [],
   "source": [
    "## three parameters for stopping threshold\n",
    "# WD = 0.10\n",
    "# AQ = 20\n",
    "# cluster_loss = 0.0015\n",
    "# batch_size = 500\n",
    "# WD = 1\n",
    "# AQ = 20\n",
    "# cluster_loss = 5\n",
    "WD = 0.1\n",
    "AQ = 70\n",
    "cluster_loss = 0.002\n",
    "batch_size = 70\n",
    "## one parameter for consensus method\n",
    "consensus_type = \"highest_matching_clustering\""
   ]
  },
  {
   "cell_type": "code",
   "execution_count": 17,
   "id": "6347f673-3104-4b27-91b7-a05ddd43fbe5",
   "metadata": {},
   "outputs": [
    {
     "name": "stdout",
     "output_type": "stream",
     "text": [
      "Start Smile-GAN for semi-supervised clustering\n",
      "****** Starting training of Fold 0 ******\n"
     ]
    },
    {
     "name": "stderr",
     "output_type": "stream",
     "text": [
      " 10%|█         | 50/500 [00:02<00:20, 22.36it/s]\n"
     ]
    },
    {
     "name": "stdout",
     "output_type": "stream",
     "text": [
      "****** Model not converging or not converged at max interation, Start retraining ******\n"
     ]
    },
    {
     "name": "stderr",
     "output_type": "stream",
     "text": [
      "  7%|▋         | 35/500 [00:01<00:21, 22.05it/s]\n",
      "KeyboardInterrupt\n",
      "\n",
      "  7%|▋         | 37/500 [00:17<00:20, 22.05it/s]"
     ]
    }
   ],
   "source": [
    "fold_number = 10  # number of folds the leave-out cv runs\n",
    "data_fraction = 0.8 # fraction of data used in each fold\n",
    "cross_validated_clustering(TA_train, ncluster, fold_number, data_fraction, start_saving_epoch, max_epoch,\n",
    "                           output_dir, WD, AQ, cluster_loss, consensus_type)"
   ]
  },
  {
   "cell_type": "code",
   "execution_count": null,
   "id": "23689aac-34cc-4783-ae8e-a2d6ea1b7e5c",
   "metadata": {},
   "outputs": [],
   "source": []
  }
 ],
 "metadata": {
  "kernelspec": {
   "display_name": "deepcare",
   "language": "python",
   "name": "deepcare"
  },
  "language_info": {
   "codemirror_mode": {
    "name": "ipython",
    "version": 3
   },
   "file_extension": ".py",
   "mimetype": "text/x-python",
   "name": "python",
   "nbconvert_exporter": "python",
   "pygments_lexer": "ipython3",
   "version": "3.8.0"
  }
 },
 "nbformat": 4,
 "nbformat_minor": 5
}
