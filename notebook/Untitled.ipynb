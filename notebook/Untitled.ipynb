{
 "cells": [
  {
   "cell_type": "code",
   "execution_count": 1,
   "id": "0c13eb76-ea56-40c5-a367-6185c6c78f75",
   "metadata": {},
   "outputs": [
    {
     "name": "stderr",
     "output_type": "stream",
     "text": [
      "C:\\Users\\drizzle\\anaconda3\\envs\\deepcare\\lib\\site-packages\\tqdm\\auto.py:22: TqdmWarning: IProgress not found. Please update jupyter and ipywidgets. See https://ipywidgets.readthedocs.io/en/stable/user_install.html\n",
      "  from .autonotebook import tqdm as notebook_tqdm\n"
     ]
    }
   ],
   "source": [
    "from SmileGAN.Smile_GAN_clustering import single_model_clustering, cross_validated_clustering, clustering_result\n",
    "import pandas as pd\n",
    "import numpy as np\n",
    "from sklearn.model_selection import train_test_split"
   ]
  },
  {
   "cell_type": "code",
   "execution_count": 2,
   "id": "ef4b2268-b3d8-41fb-8965-94f59f4bfbdc",
   "metadata": {},
   "outputs": [
    {
     "name": "stderr",
     "output_type": "stream",
     "text": [
      "C:\\Users\\drizzle\\AppData\\Local\\Temp\\ipykernel_9588\\4265215034.py:1: DtypeWarning: Columns (471,473,474,487,488,489,490,491,492,493,494,495,496,497,498,499,500,501,502,503,504,505,506,507,508,509,510,511,512,513,514,515,516,517,518,519,520,521,522,523,524,525,526,527,528,529,530,531,532,533,534,535,536,537,538,539,540,541,542,543,544,545,546,547,548,549,550,551,552,553,554,555,556,557,558,559,560,561,562,563,569,570,572,573,574,575,576,577,578,579,580,581,582,583,584,585,586,587,588,589,590,591,592,593,594,595,596,597,599,601,606,607,608,609,610,611,612,613,614,615,616,617,618,619,620,621,624,625,626,627,628,629,630,631,632,633,634,636,637,638,639,640,641,642,643,644,645,646,647,648,649,650,651,652,653,654,655,656,657,658,659,660,661,663,664,665,666,667,668,669,670,671,672,673,674,675,676,677,678,679,680,681,682,683,684,685,686,687,688,689,690,691,692,693,694,695,696,697,698,699,700,701,702,703,704,705,706,707,708,709,710,711,712,713,714,715,716,717,718,719,720,721,722,723,724,725,726,727,728,729,730,731,732,733,734,735,736,737,738,739,745,746,748,749,750,751,752,753,754,755,756,757,758,759,760,761,762,763,764,765,766,767,770,771,776,777,778,779,780,781,782,783,784,785,786,787,788,789,790,791,794,795,797,798,799,800,801,802,803,804,806,807,808,809,810,811,812,813,814,815,816,817,818,819,820,821,822,823,824,825,826,827,828,829,830,831) have mixed types. Specify dtype option on import or set low_memory=False.\n",
      "  d1_2 = pd.read_csv('../tadpole/TADPOLE_D1_D2.csv')\n"
     ]
    }
   ],
   "source": [
    "d1_2 = pd.read_csv('../tadpole/TADPOLE_D1_D2.csv')"
   ]
  },
  {
   "cell_type": "code",
   "execution_count": 3,
   "id": "02b02e49-1435-46e5-b172-8f0d0c55b269",
   "metadata": {},
   "outputs": [],
   "source": [
    "dx_id_dict = {}\n",
    "for i in d1_2['DX_bl'].unique():\n",
    "    if i == 'CN':\n",
    "        dx_id_dict[i] = 1\n",
    "    else:\n",
    "        dx_id_dict[i] = -1"
   ]
  },
  {
   "cell_type": "code",
   "execution_count": 4,
   "id": "0b60db6d-2b3f-4662-82f9-9a5845e6383c",
   "metadata": {},
   "outputs": [],
   "source": [
    "roi_list = sorted(list(filter(lambda x: x.startswith('ST'),list(d1_2.columns))))[:-5]"
   ]
  },
  {
   "cell_type": "code",
   "execution_count": 5,
   "id": "a767b39b-11e1-4810-9320-aca449eeab73",
   "metadata": {},
   "outputs": [],
   "source": [
    "roi_type = list(set([x.split('_')[0][-2:] for x in roi_list]))"
   ]
  },
  {
   "cell_type": "code",
   "execution_count": 6,
   "id": "da4d86e3-cb5c-45c1-93c5-1dded1380f68",
   "metadata": {},
   "outputs": [
    {
     "name": "stdout",
     "output_type": "stream",
     "text": [
      "['SA', 'TS', 'CV', 'TA', 'SV']\n"
     ]
    }
   ],
   "source": [
    "print(roi_type)"
   ]
  },
  {
   "cell_type": "code",
   "execution_count": 7,
   "id": "d4584bf9-a8d7-4be2-9dae-43057f692f02",
   "metadata": {},
   "outputs": [],
   "source": [
    "TA_list = [x for x in roi_list if x.split('_')[0][-2:] == 'TA']\n",
    "SA_list = [x for x in roi_list if x.split('_')[0][-2:] == 'SA']\n",
    "TS_list = [x for x in roi_list if x.split('_')[0][-2:] == 'TS']\n",
    "SV_list = [x for x in roi_list if x.split('_')[0][-2:] == 'SV']\n",
    "CV_list = [x for x in roi_list if x.split('_')[0][-2:] == 'CV']"
   ]
  },
  {
   "cell_type": "code",
   "execution_count": 8,
   "id": "04b6b327-9dc0-4dd9-bf4b-fa0335926b87",
   "metadata": {},
   "outputs": [],
   "source": [
    "def get_type_df(df,roi_list,dx_id_dict):\n",
    "    clms = ['RID','DX_bl','AGE']\n",
    "    clms += roi_list\n",
    "    data = df[clms].rename(columns={\"RID\": \"participant_id\", \"DX_bl\": \"diagnosis\"})\n",
    "    data = data.replace(' ',np.nan)\n",
    "    data['diagnosis'] = data['diagnosis'].map(dx_id_dict)\n",
    "    data.dropna(axis=1,how='all',inplace=True)\n",
    "    data = data.dropna(axis=1,thresh = 7650).apply(pd.to_numeric)\n",
    "    data = data.groupby('participant_id').first().reset_index()\n",
    "    train_id,test_id = train_test_split(data['participant_id'],test_size=0.2,random_state=42)\n",
    "    train = data[data['participant_id'].isin(train_id)]\n",
    "    train = train.apply(lambda x: x.fillna(x.mean()),axis=0)\n",
    "    test = data[data['participant_id'].isin(test_id)]\n",
    "    test = test.apply(lambda x: x.fillna(x.mean()),axis=0)\n",
    "    return train, test"
   ]
  },
  {
   "cell_type": "code",
   "execution_count": 9,
   "id": "3b0ef124-ba3b-40ac-85be-7745de44d343",
   "metadata": {},
   "outputs": [],
   "source": [
    "TA_train,TA_test = get_type_df(d1_2, TA_list, dx_id_dict)"
   ]
  },
  {
   "cell_type": "code",
   "execution_count": 10,
   "id": "a81d62b9-55e4-491d-9187-58bff9867c7c",
   "metadata": {},
   "outputs": [
    {
     "data": {
      "text/plain": [
       "(1389, 1389)"
      ]
     },
     "execution_count": 10,
     "metadata": {},
     "output_type": "execute_result"
    }
   ],
   "source": [
    "len(TA_train),len(TA_train['participant_id'].unique())"
   ]
  },
  {
   "cell_type": "code",
   "execution_count": 11,
   "id": "6aad6e2b-0cb9-45ba-a98f-81825b543321",
   "metadata": {},
   "outputs": [
    {
     "data": {
      "text/plain": [
       "69.45"
      ]
     },
     "execution_count": 11,
     "metadata": {},
     "output_type": "execute_result"
    }
   ],
   "source": [
    "len(TA_train)/20"
   ]
  },
  {
   "cell_type": "code",
   "execution_count": 12,
   "id": "22ff4527-36c5-407b-b148-b53300148523",
   "metadata": {},
   "outputs": [
    {
     "data": {
      "text/plain": [
       "17.4"
      ]
     },
     "execution_count": 12,
     "metadata": {},
     "output_type": "execute_result"
    }
   ],
   "source": [
    "len(TA_test)/20"
   ]
  },
  {
   "cell_type": "code",
   "execution_count": 13,
   "id": "186cb681-fbf7-4c78-83f6-d857b4c35fb5",
   "metadata": {},
   "outputs": [],
   "source": [
    "output_dir = \"../output/\"\n",
    "ncluster = 3\n",
    "start_saving_epoch = 9000\n",
    "max_epoch = 14000\n",
    "\n",
    "## three parameters for stopping threshold\n",
    "WD = 0.10\n",
    "AQ = 20\n",
    "cluster_loss = 0.0015\n",
    "\n",
    "## one parameter for consensus method\n",
    "consensus_type = \"highest_matching_clustering\""
   ]
  },
  {
   "cell_type": "code",
   "execution_count": 18,
   "id": "2153d0a4-2956-4172-8201-4b71b253adbd",
   "metadata": {},
   "outputs": [],
   "source": [
    "output_dir = \"../output/\"\n",
    "ncluster = 3\n",
    "start_saving_epoch = 9000\n",
    "max_epoch = 14000"
   ]
  },
  {
   "cell_type": "code",
   "execution_count": 19,
   "id": "aa4653e8-9b67-4168-bfe1-3b0d3ace3351",
   "metadata": {},
   "outputs": [],
   "source": [
    "## three parameters for stopping threshold\n",
    "# WD = 0.10\n",
    "# AQ = 20\n",
    "# cluster_loss = 0.0015\n",
    "# batch_size = 500\n",
    "# WD = 1\n",
    "# AQ = 20\n",
    "# cluster_loss = 5\n",
    "WD = 0.1\n",
    "AQ = 70\n",
    "cluster_loss = 0.002\n",
    "batch_size = 70\n",
    "## one parameter for consensus method\n",
    "consensus_type = \"highest_matching_clustering\""
   ]
  },
  {
   "cell_type": "code",
   "execution_count": 14,
   "id": "6347f673-3104-4b27-91b7-a05ddd43fbe5",
   "metadata": {},
   "outputs": [
    {
     "name": "stdout",
     "output_type": "stream",
     "text": [
      "Start Smile-GAN for semi-supervised clustering\n",
      "****** Starting training of Fold 0 ******\n"
     ]
    },
    {
     "name": "stderr",
     "output_type": "stream",
     "text": [
      "  0%|          | 50/14000 [00:02<10:11, 22.81it/s]\n"
     ]
    },
    {
     "name": "stdout",
     "output_type": "stream",
     "text": [
      "****** Model not converging or not converged at max interation, Start retraining ******\n"
     ]
    },
    {
     "name": "stderr",
     "output_type": "stream",
     "text": [
      "  0%|          | 50/14000 [00:02<10:03, 23.13it/s]\n"
     ]
    },
    {
     "name": "stdout",
     "output_type": "stream",
     "text": [
      "****** Model not converging or not converged at max interation, Start retraining ******\n"
     ]
    },
    {
     "name": "stderr",
     "output_type": "stream",
     "text": [
      "  0%|          | 50/14000 [00:02<10:08, 22.93it/s]\n"
     ]
    },
    {
     "name": "stdout",
     "output_type": "stream",
     "text": [
      "****** Model not converging or not converged at max interation, Start retraining ******\n"
     ]
    },
    {
     "name": "stderr",
     "output_type": "stream",
     "text": [
      "  0%|          | 50/14000 [00:02<10:10, 22.86it/s]\n"
     ]
    },
    {
     "name": "stdout",
     "output_type": "stream",
     "text": [
      "****** Model not converging or not converged at max interation, Start retraining ******\n"
     ]
    },
    {
     "name": "stderr",
     "output_type": "stream",
     "text": [
      "  0%|          | 50/14000 [00:02<10:26, 22.27it/s]\n",
      "KeyboardInterrupt\n",
      "\n"
     ]
    }
   ],
   "source": [
    "fold_number = 10  # number of folds the leave-out cv runs\n",
    "data_fraction = 0.8 # fraction of data used in each fold\n",
    "cross_validated_clustering(TA_train, ncluster, fold_number, data_fraction, start_saving_epoch, max_epoch,\n",
    "                           output_dir, WD, AQ, cluster_loss, consensus_type)"
   ]
  },
  {
   "cell_type": "code",
   "execution_count": null,
   "id": "23689aac-34cc-4783-ae8e-a2d6ea1b7e5c",
   "metadata": {},
   "outputs": [],
   "source": []
  }
 ],
 "metadata": {
  "kernelspec": {
   "display_name": "deepcare",
   "language": "python",
   "name": "deepcare"
  },
  "language_info": {
   "codemirror_mode": {
    "name": "ipython",
    "version": 3
   },
   "file_extension": ".py",
   "mimetype": "text/x-python",
   "name": "python",
   "nbconvert_exporter": "python",
   "pygments_lexer": "ipython3",
   "version": "3.8.0"
  }
 },
 "nbformat": 4,
 "nbformat_minor": 5
}
