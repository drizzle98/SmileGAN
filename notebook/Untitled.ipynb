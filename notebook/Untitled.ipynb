{
 "cells": [
  {
   "cell_type": "code",
   "execution_count": 1,
   "id": "0c13eb76-ea56-40c5-a367-6185c6c78f75",
   "metadata": {},
   "outputs": [
    {
     "name": "stderr",
     "output_type": "stream",
     "text": [
      "C:\\Users\\drizzle\\anaconda3\\envs\\deepcare\\lib\\site-packages\\tqdm\\auto.py:22: TqdmWarning: IProgress not found. Please update jupyter and ipywidgets. See https://ipywidgets.readthedocs.io/en/stable/user_install.html\n",
      "  from .autonotebook import tqdm as notebook_tqdm\n"
     ]
    }
   ],
   "source": [
    "from SmileGAN.Smile_GAN_clustering import single_model_clustering, cross_validated_clustering, clustering_result\n",
    "import pandas as pd\n",
    "import numpy as np\n",
    "from sklearn.model_selection import train_test_split"
   ]
  },
  {
   "cell_type": "code",
   "execution_count": 2,
   "id": "ef4b2268-b3d8-41fb-8965-94f59f4bfbdc",
   "metadata": {},
   "outputs": [
    {
     "name": "stderr",
     "output_type": "stream",
     "text": [
      "C:\\Users\\drizzle\\AppData\\Local\\Temp\\ipykernel_6472\\4265215034.py:1: DtypeWarning: Columns (471,473,474,487,488,489,490,491,492,493,494,495,496,497,498,499,500,501,502,503,504,505,506,507,508,509,510,511,512,513,514,515,516,517,518,519,520,521,522,523,524,525,526,527,528,529,530,531,532,533,534,535,536,537,538,539,540,541,542,543,544,545,546,547,548,549,550,551,552,553,554,555,556,557,558,559,560,561,562,563,569,570,572,573,574,575,576,577,578,579,580,581,582,583,584,585,586,587,588,589,590,591,592,593,594,595,596,597,599,601,606,607,608,609,610,611,612,613,614,615,616,617,618,619,620,621,624,625,626,627,628,629,630,631,632,633,634,636,637,638,639,640,641,642,643,644,645,646,647,648,649,650,651,652,653,654,655,656,657,658,659,660,661,663,664,665,666,667,668,669,670,671,672,673,674,675,676,677,678,679,680,681,682,683,684,685,686,687,688,689,690,691,692,693,694,695,696,697,698,699,700,701,702,703,704,705,706,707,708,709,710,711,712,713,714,715,716,717,718,719,720,721,722,723,724,725,726,727,728,729,730,731,732,733,734,735,736,737,738,739,745,746,748,749,750,751,752,753,754,755,756,757,758,759,760,761,762,763,764,765,766,767,770,771,776,777,778,779,780,781,782,783,784,785,786,787,788,789,790,791,794,795,797,798,799,800,801,802,803,804,806,807,808,809,810,811,812,813,814,815,816,817,818,819,820,821,822,823,824,825,826,827,828,829,830,831) have mixed types. Specify dtype option on import or set low_memory=False.\n",
      "  d1_2 = pd.read_csv('../tadpole/TADPOLE_D1_D2.csv')\n"
     ]
    }
   ],
   "source": [
    "d1_2 = pd.read_csv('../tadpole/TADPOLE_D1_D2.csv')"
   ]
  },
  {
   "cell_type": "code",
   "execution_count": 3,
   "id": "02b02e49-1435-46e5-b172-8f0d0c55b269",
   "metadata": {},
   "outputs": [],
   "source": [
    "dx_id_dict = {}\n",
    "for i in d1_2['DX_bl'].unique():\n",
    "    if i == 'CN':\n",
    "        dx_id_dict[i] = 1\n",
    "    else:\n",
    "        dx_id_dict[i] = -1"
   ]
  },
  {
   "cell_type": "code",
   "execution_count": 4,
   "id": "0b60db6d-2b3f-4662-82f9-9a5845e6383c",
   "metadata": {},
   "outputs": [],
   "source": [
    "roi_list = sorted(list(filter(lambda x: x.startswith('ST'),list(d1_2.columns))))[:-5]"
   ]
  },
  {
   "cell_type": "code",
   "execution_count": 5,
   "id": "a767b39b-11e1-4810-9320-aca449eeab73",
   "metadata": {},
   "outputs": [],
   "source": [
    "roi_type = list(set([x.split('_')[0][-2:] for x in roi_list]))"
   ]
  },
  {
   "cell_type": "code",
   "execution_count": 6,
   "id": "da4d86e3-cb5c-45c1-93c5-1dded1380f68",
   "metadata": {},
   "outputs": [
    {
     "name": "stdout",
     "output_type": "stream",
     "text": [
      "['TA', 'CV', 'SA', 'TS', 'SV']\n"
     ]
    }
   ],
   "source": [
    "print(roi_type)"
   ]
  },
  {
   "cell_type": "code",
   "execution_count": 7,
   "id": "d4584bf9-a8d7-4be2-9dae-43057f692f02",
   "metadata": {},
   "outputs": [],
   "source": [
    "TA_list = [x for x in roi_list if x.split('_')[0][-2:] == 'TA']\n",
    "SA_list = [x for x in roi_list if x.split('_')[0][-2:] == 'SA']\n",
    "TS_list = [x for x in roi_list if x.split('_')[0][-2:] == 'TS']\n",
    "SV_list = [x for x in roi_list if x.split('_')[0][-2:] == 'SV']\n",
    "CV_list = [x for x in roi_list if x.split('_')[0][-2:] == 'CV']"
   ]
  },
  {
   "cell_type": "code",
   "execution_count": 8,
   "id": "04b6b327-9dc0-4dd9-bf4b-fa0335926b87",
   "metadata": {},
   "outputs": [],
   "source": [
    "def get_type_df(df,roi_list,dx_id_dict):\n",
    "    clms = ['RID','DX_bl','AGE']\n",
    "    clms += roi_list\n",
    "    data = df[clms].rename(columns={\"RID\": \"participant_id\", \"DX_bl\": \"diagnosis\"})\n",
    "    data = data.replace(' ',np.nan)\n",
    "    data['diagnosis'] = data['diagnosis'].map(dx_id_dict)\n",
    "    data.dropna(axis=1,how='all',inplace=True)\n",
    "    data = data.dropna(axis=1,thresh = 7650).apply(pd.to_numeric)\n",
    "    train_id,test_id = train_test_split(data['participant_id'],test_size=0.2,random_state=42)\n",
    "    train = data[data['participant_id'].isin(train_id)]\n",
    "    train = train.apply(lambda x: x.fillna(x.mean()),axis=0)\n",
    "    test = data[data['participant_id'].isin(test_id)]\n",
    "    test = test.apply(lambda x: x.fillna(x.mean()),axis=0)\n",
    "    return train, test"
   ]
  },
  {
   "cell_type": "code",
   "execution_count": 9,
   "id": "3b0ef124-ba3b-40ac-85be-7745de44d343",
   "metadata": {},
   "outputs": [],
   "source": [
    "TA_train,TA_test = get_type_df(d1_2, TA_list, dx_id_dict)"
   ]
  },
  {
   "cell_type": "code",
   "execution_count": 10,
   "id": "6aad6e2b-0cb9-45ba-a98f-81825b543321",
   "metadata": {},
   "outputs": [
    {
     "data": {
      "text/plain": [
       "12712"
      ]
     },
     "execution_count": 10,
     "metadata": {},
     "output_type": "execute_result"
    }
   ],
   "source": [
    "len(TA_train)"
   ]
  },
  {
   "cell_type": "code",
   "execution_count": 21,
   "id": "2153d0a4-2956-4172-8201-4b71b253adbd",
   "metadata": {},
   "outputs": [],
   "source": [
    "output_dir = \"../output/\"\n",
    "ncluster = 3\n",
    "start_saving_epoch = 9000\n",
    "max_epoch = 15000"
   ]
  },
  {
   "cell_type": "code",
   "execution_count": 22,
   "id": "aa4653e8-9b67-4168-bfe1-3b0d3ace3351",
   "metadata": {},
   "outputs": [],
   "source": [
    "## three parameters for stopping threshold\n",
    "WD = 0.10\n",
    "AQ = 20\n",
    "cluster_loss = 0.0015\n",
    "batch_size = 15\n",
    "# WD = 1\n",
    "# AQ = 20\n",
    "# cluster_loss = 5\n",
    "\n",
    "## one parameter for consensus method\n",
    "consensus_type = \"highest_matching_clustering\""
   ]
  },
  {
   "cell_type": "code",
   "execution_count": 23,
   "id": "6347f673-3104-4b27-91b7-a05ddd43fbe5",
   "metadata": {},
   "outputs": [
    {
     "name": "stdout",
     "output_type": "stream",
     "text": [
      "Start Smile-GAN for semi-supervised clustering\n",
      "****** Starting training of Fold 0 ******\n"
     ]
    },
    {
     "name": "stderr",
     "output_type": "stream",
     "text": [
      "\n",
      "\n",
      "\n",
      "  0%|          | 0/15000 [00:00<?, ?it/s]\u001b[A\u001b[A\u001b[A\n",
      "\n",
      "\n",
      "  0%|          | 2/15000 [00:00<1:19:43,  3.14it/s]\u001b[A\u001b[A\u001b[A\n",
      "\n",
      "\n",
      "  0%|          | 3/15000 [00:01<1:53:10,  2.21it/s]\u001b[A\u001b[A\u001b[A\n",
      "\n",
      "\n",
      "  0%|          | 4/15000 [00:01<2:09:31,  1.93it/s]\u001b[A\u001b[A\u001b[A\n",
      "\n",
      "\n",
      "  0%|          | 5/15000 [00:02<2:18:53,  1.80it/s]\u001b[A\u001b[A\u001b[A\n",
      "\n",
      "\n",
      "  0%|          | 6/15000 [00:03<2:29:14,  1.67it/s]\u001b[A\u001b[A\u001b[A\n",
      "\n",
      "\n",
      "  0%|          | 7/15000 [00:03<2:31:14,  1.65it/s]\u001b[A\u001b[A\u001b[A\n",
      "\n",
      "\n",
      "  0%|          | 8/15000 [00:04<2:33:25,  1.63it/s]\u001b[A\u001b[A\u001b[A\n",
      "\n",
      "\n",
      "  0%|          | 9/15000 [00:05<2:34:49,  1.61it/s]\u001b[A\u001b[A\u001b[A\n",
      "\n",
      "\n",
      "  0%|          | 10/15000 [00:05<2:34:59,  1.61it/s]\u001b[A\u001b[A\u001b[A\n",
      "\n",
      "\n",
      "  0%|          | 11/15000 [00:06<2:38:14,  1.58it/s]\u001b[A\u001b[A\u001b[A\n",
      "\n",
      "\n",
      "  0%|          | 12/15000 [00:07<2:37:27,  1.59it/s]\u001b[A\u001b[A\u001b[A\n",
      "\n",
      "\n",
      "  0%|          | 13/15000 [00:07<2:37:32,  1.59it/s]\u001b[A\u001b[A\u001b[A\n",
      "\n",
      "\n",
      "  0%|          | 14/15000 [00:08<2:38:01,  1.58it/s]\u001b[A\u001b[A\u001b[A\n",
      "\n",
      "\n",
      "  0%|          | 15/15000 [00:08<2:38:21,  1.58it/s]\u001b[A\u001b[A\u001b[A\n",
      "\n",
      "\n",
      "  0%|          | 16/15000 [00:09<2:41:21,  1.55it/s]\u001b[A\u001b[A\u001b[A\n",
      "\n",
      "\n",
      "  0%|          | 17/15000 [00:10<2:39:55,  1.56it/s]\u001b[A\u001b[A\u001b[A\n",
      "\n",
      "\n",
      "  0%|          | 18/15000 [00:10<2:39:17,  1.57it/s]\u001b[A\u001b[A\u001b[A\n",
      "\n",
      "\n",
      "  0%|          | 19/15000 [00:11<2:39:06,  1.57it/s]\u001b[A\u001b[A\u001b[A\n",
      "\n",
      "\n",
      "  0%|          | 20/15000 [00:12<2:38:16,  1.58it/s]\u001b[A\u001b[A\u001b[A\n",
      "\n",
      "\n",
      "  0%|          | 21/15000 [00:12<2:40:22,  1.56it/s]\u001b[A\u001b[A\u001b[A\n",
      "\n",
      "\n",
      "  0%|          | 22/15000 [00:13<2:40:21,  1.56it/s]\u001b[A\u001b[A\u001b[A\n",
      "\n",
      "\n",
      "  0%|          | 23/15000 [00:14<2:39:03,  1.57it/s]\u001b[A\u001b[A\u001b[A\n",
      "\n",
      "\n",
      "  0%|          | 24/15000 [00:14<2:38:31,  1.57it/s]\u001b[A\u001b[A\u001b[A\n",
      "\n",
      "\n",
      "  0%|          | 25/15000 [00:15<2:37:49,  1.58it/s]\u001b[A\u001b[A\u001b[A\n",
      "\n",
      "\n",
      "  0%|          | 26/15000 [00:15<2:40:11,  1.56it/s]\u001b[A\u001b[A\u001b[A\n",
      "\n",
      "\n",
      "  0%|          | 27/15000 [00:16<2:38:39,  1.57it/s]\u001b[A\u001b[A\u001b[A\n",
      "\n",
      "\n",
      "  0%|          | 28/15000 [00:17<2:37:51,  1.58it/s]\u001b[A\u001b[A\u001b[A\n",
      "\n",
      "\n",
      "  0%|          | 29/15000 [00:17<2:37:25,  1.58it/s]\u001b[A\u001b[A\u001b[A\n",
      "\n",
      "\n",
      "  0%|          | 30/15000 [00:18<2:38:24,  1.58it/s]\u001b[A\u001b[A\u001b[A\n",
      "\n",
      "\n",
      "  0%|          | 31/15000 [00:19<2:39:54,  1.56it/s]\u001b[A\u001b[A\u001b[A\n",
      "\n",
      "\n",
      "  0%|          | 32/15000 [00:19<2:39:36,  1.56it/s]\u001b[A\u001b[A\u001b[A\n",
      "\n",
      "\n",
      "  0%|          | 33/15000 [00:20<2:40:49,  1.55it/s]\u001b[A\u001b[A\u001b[A\n",
      "\n",
      "\n",
      "  0%|          | 34/15000 [00:21<2:40:33,  1.55it/s]\u001b[A\u001b[A\u001b[A\n",
      "\n",
      "\n",
      "  0%|          | 35/15000 [00:21<2:39:58,  1.56it/s]\u001b[A\u001b[A\u001b[A\n",
      "\n",
      "\n",
      "  0%|          | 36/15000 [00:22<2:41:26,  1.54it/s]\u001b[A\u001b[A\u001b[A\n",
      "\n",
      "\n",
      "  0%|          | 37/15000 [00:23<2:41:16,  1.55it/s]\u001b[A\u001b[A\u001b[A\n",
      "\n",
      "\n",
      "  0%|          | 38/15000 [00:23<2:41:08,  1.55it/s]\u001b[A\u001b[A\u001b[A\n",
      "\n",
      "\n",
      "  0%|          | 39/15000 [00:24<2:38:58,  1.57it/s]\u001b[A\u001b[A\u001b[A\n",
      "\n",
      "\n",
      "  0%|          | 40/15000 [00:24<2:38:29,  1.57it/s]\u001b[A\u001b[A\u001b[A\n",
      "\n",
      "\n",
      "  0%|          | 41/15000 [00:25<2:39:42,  1.56it/s]\u001b[A\u001b[A\u001b[A\n",
      "\n",
      "\n",
      "  0%|          | 42/15000 [00:26<2:38:19,  1.57it/s]\u001b[A\u001b[A\u001b[A\n",
      "\n",
      "\n",
      "  0%|          | 43/15000 [00:26<2:37:52,  1.58it/s]\u001b[A\u001b[A\u001b[A\n",
      "\n",
      "\n",
      "  0%|          | 44/15000 [00:27<2:37:59,  1.58it/s]\u001b[A\u001b[A\u001b[A\n",
      "\n",
      "\n",
      "  0%|          | 45/15000 [00:28<2:37:58,  1.58it/s]\u001b[A\u001b[A\u001b[A\n",
      "\n",
      "\n",
      "  0%|          | 46/15000 [00:28<2:39:53,  1.56it/s]\u001b[A\u001b[A\u001b[A\n",
      "\n",
      "\n",
      "  0%|          | 47/15000 [00:29<2:40:08,  1.56it/s]\u001b[A\u001b[A\u001b[A\n",
      "\n",
      "\n",
      "  0%|          | 48/15000 [00:30<2:40:06,  1.56it/s]\u001b[A\u001b[A\u001b[A\n",
      "\n",
      "\n",
      "  0%|          | 49/15000 [00:30<2:39:19,  1.56it/s]\u001b[A\u001b[A\u001b[A\n",
      "\n",
      "\n",
      "  0%|          | 50/15000 [00:31<2:39:06,  1.57it/s]\u001b[A\u001b[A\u001b[A\n"
     ]
    },
    {
     "name": "stdout",
     "output_type": "stream",
     "text": [
      "****** Model not converging or not converged at max interation, Start retraining ******\n"
     ]
    },
    {
     "name": "stderr",
     "output_type": "stream",
     "text": [
      "\n",
      "\n",
      "\n",
      "  0%|          | 0/15000 [00:00<?, ?it/s]\u001b[A\u001b[A\u001b[A\n",
      "\n",
      "\n",
      "  0%|          | 2/15000 [00:00<1:17:51,  3.21it/s]\u001b[A\u001b[A\u001b[A\n",
      "\n",
      "\n",
      "  0%|          | 3/15000 [00:01<1:51:01,  2.25it/s]\u001b[A\u001b[A\u001b[A\n",
      "\n",
      "\n",
      "  0%|          | 4/15000 [00:01<2:09:33,  1.93it/s]\u001b[A\u001b[A\u001b[A"
     ]
    },
    {
     "ename": "KeyboardInterrupt",
     "evalue": "",
     "output_type": "error",
     "traceback": [
      "\u001b[1;31m---------------------------------------------------------------------------\u001b[0m",
      "\u001b[1;31mKeyboardInterrupt\u001b[0m                         Traceback (most recent call last)",
      "Cell \u001b[1;32mIn[23], line 3\u001b[0m\n\u001b[0;32m      1\u001b[0m fold_number \u001b[38;5;241m=\u001b[39m \u001b[38;5;241m100\u001b[39m  \u001b[38;5;66;03m# number of folds the leave-out cv runs\u001b[39;00m\n\u001b[0;32m      2\u001b[0m data_fraction \u001b[38;5;241m=\u001b[39m \u001b[38;5;241m0.8\u001b[39m \u001b[38;5;66;03m# fraction of data used in each fold\u001b[39;00m\n\u001b[1;32m----> 3\u001b[0m \u001b[43mcross_validated_clustering\u001b[49m\u001b[43m(\u001b[49m\u001b[43mTA_test\u001b[49m\u001b[43m,\u001b[49m\u001b[43m \u001b[49m\u001b[43mncluster\u001b[49m\u001b[43m,\u001b[49m\u001b[43m \u001b[49m\u001b[43mfold_number\u001b[49m\u001b[43m,\u001b[49m\u001b[43m \u001b[49m\u001b[43mdata_fraction\u001b[49m\u001b[43m,\u001b[49m\u001b[43m \u001b[49m\u001b[43mstart_saving_epoch\u001b[49m\u001b[43m,\u001b[49m\u001b[43m \u001b[49m\u001b[43mmax_epoch\u001b[49m\u001b[43m,\u001b[49m\n\u001b[0;32m      4\u001b[0m \u001b[43m                           \u001b[49m\u001b[43moutput_dir\u001b[49m\u001b[43m,\u001b[49m\u001b[43m \u001b[49m\u001b[43mWD\u001b[49m\u001b[43m,\u001b[49m\u001b[43m \u001b[49m\u001b[43mAQ\u001b[49m\u001b[43m,\u001b[49m\u001b[43m \u001b[49m\u001b[43mcluster_loss\u001b[49m\u001b[43m,\u001b[49m\u001b[43m \u001b[49m\u001b[43mconsensus_type\u001b[49m\u001b[43m,\u001b[49m\u001b[43m \u001b[49m\u001b[43mbatchSize\u001b[49m\u001b[38;5;241;43m=\u001b[39;49m\u001b[43mbatch_size\u001b[49m\u001b[43m)\u001b[49m\n",
      "File \u001b[1;32m~\\anaconda3\\envs\\deepcare\\lib\\site-packages\\SmileGAN\\Smile_GAN_clustering.py:235\u001b[0m, in \u001b[0;36mcross_validated_clustering\u001b[1;34m(data, ncluster, fold_number, fraction, start_saving_epoch, max_epoch, output_dir, WD_threshold, AQ_threshold, cluster_loss_threshold, consensus_type, covariate, lam, mu, batchSize, lipschitz_k, verbose, beta1, lr, max_gnorm, eval_freq, save_epoch_freq, start_fold, stop_fold, check_outlier, std_in_WD)\u001b[0m\n\u001b[0;32m    233\u001b[0m \t\u001b[38;5;28;01mwhile\u001b[39;00m \u001b[38;5;129;01mnot\u001b[39;00m converge:\n\u001b[0;32m    234\u001b[0m \t\t\u001b[38;5;28mprint\u001b[39m(\u001b[38;5;124m\"\u001b[39m\u001b[38;5;124m****** Model not converging or not converged at max interation, Start retraining ******\u001b[39m\u001b[38;5;124m\"\u001b[39m)\n\u001b[1;32m--> 235\u001b[0m \t\tconverge \u001b[38;5;241m=\u001b[39m \u001b[43mSmile_GAN_model\u001b[49m\u001b[38;5;241;43m.\u001b[39;49m\u001b[43mtrain\u001b[49m\u001b[43m(\u001b[49m\u001b[43msaved_model_name\u001b[49m\u001b[43m,\u001b[49m\u001b[43m \u001b[49m\u001b[43mdata\u001b[49m\u001b[43m,\u001b[49m\u001b[43m \u001b[49m\u001b[43mcovariate\u001b[49m\u001b[43m,\u001b[49m\u001b[43m \u001b[49m\u001b[43moutput_dir\u001b[49m\u001b[43m,\u001b[49m\u001b[43m \u001b[49m\u001b[43mrandom_seed\u001b[49m\u001b[38;5;241;43m=\u001b[39;49m\u001b[43mi\u001b[49m\u001b[43m,\u001b[49m\u001b[43m \u001b[49m\u001b[43mdata_fraction\u001b[49m\u001b[43m \u001b[49m\u001b[38;5;241;43m=\u001b[39;49m\u001b[43m \u001b[49m\u001b[43mfraction\u001b[49m\u001b[43m,\u001b[49m\u001b[43m \u001b[49m\u001b[43mverbose\u001b[49m\u001b[43m \u001b[49m\u001b[38;5;241;43m=\u001b[39;49m\u001b[43m \u001b[49m\u001b[43mverbose\u001b[49m\u001b[43m,\u001b[49m\u001b[43m \u001b[49m\u001b[43mstd_in_wdistance\u001b[49m\u001b[43m \u001b[49m\u001b[38;5;241;43m=\u001b[39;49m\u001b[43m \u001b[49m\u001b[43mstd_in_WD\u001b[49m\u001b[43m)\u001b[49m\n\u001b[0;32m    237\u001b[0m \u001b[38;5;28;01mif\u001b[39;00m check_outlier:\n\u001b[0;32m    238\u001b[0m \t\u001b[38;5;28mprint\u001b[39m(\u001b[38;5;124m'\u001b[39m\u001b[38;5;124m****** Start Checking outlier models ******\u001b[39m\u001b[38;5;124m'\u001b[39m)\n",
      "File \u001b[1;32m~\\anaconda3\\envs\\deepcare\\lib\\site-packages\\SmileGAN\\clustering.py:102\u001b[0m, in \u001b[0;36mSmile_GAN_train.train\u001b[1;34m(self, model_name, data, covariate, save_dir, random_seed, data_fraction, verbose, independent_ROI, std_in_wdistance)\u001b[0m\n\u001b[0;32m     99\u001b[0m total_steps \u001b[38;5;241m+\u001b[39m\u001b[38;5;241m=\u001b[39m \u001b[38;5;28mself\u001b[39m\u001b[38;5;241m.\u001b[39mopt\u001b[38;5;241m.\u001b[39mbatchsize\n\u001b[0;32m    100\u001b[0m epoch_iter \u001b[38;5;241m+\u001b[39m\u001b[38;5;241m=\u001b[39m \u001b[38;5;28mself\u001b[39m\u001b[38;5;241m.\u001b[39mopt\u001b[38;5;241m.\u001b[39mbatchsize\n\u001b[1;32m--> 102\u001b[0m losses \u001b[38;5;241m=\u001b[39m \u001b[43mmodel\u001b[49m\u001b[38;5;241;43m.\u001b[39;49m\u001b[43mtrain_instance\u001b[49m\u001b[43m(\u001b[49m\u001b[43mreal_X\u001b[49m\u001b[43m,\u001b[49m\u001b[43m \u001b[49m\u001b[43mreal_Y\u001b[49m\u001b[43m)\u001b[49m\n\u001b[0;32m    104\u001b[0m \u001b[38;5;28;01mif\u001b[39;00m total_steps \u001b[38;5;241m%\u001b[39m \u001b[38;5;28mself\u001b[39m\u001b[38;5;241m.\u001b[39mopt\u001b[38;5;241m.\u001b[39mprint_freq \u001b[38;5;241m==\u001b[39m \u001b[38;5;241m0\u001b[39m:\n\u001b[0;32m    105\u001b[0m     t \u001b[38;5;241m=\u001b[39m (time\u001b[38;5;241m.\u001b[39mtime() \u001b[38;5;241m-\u001b[39m print_start_time) \u001b[38;5;241m/\u001b[39m \u001b[38;5;28mself\u001b[39m\u001b[38;5;241m.\u001b[39mopt\u001b[38;5;241m.\u001b[39mbatchsize\n",
      "File \u001b[1;32m~\\anaconda3\\envs\\deepcare\\lib\\site-packages\\SmileGAN\\model.py:97\u001b[0m, in \u001b[0;36mSmileGAN.train_instance\u001b[1;34m(self, x, real_y)\u001b[0m\n\u001b[0;32m     95\u001b[0m \u001b[38;5;28;01mdef\u001b[39;00m \u001b[38;5;21mtrain_instance\u001b[39m(\u001b[38;5;28mself\u001b[39m, x, real_y):\n\u001b[0;32m     96\u001b[0m     z_var, z_index \u001b[38;5;241m=\u001b[39m sample_z(x, \u001b[38;5;28mself\u001b[39m\u001b[38;5;241m.\u001b[39mopt\u001b[38;5;241m.\u001b[39mncluster)\n\u001b[1;32m---> 97\u001b[0m     fake_y \u001b[38;5;241m=\u001b[39m \u001b[38;5;28;43mself\u001b[39;49m\u001b[38;5;241;43m.\u001b[39;49m\u001b[43mnetMapping\u001b[49m\u001b[38;5;241;43m.\u001b[39;49m\u001b[43mforward\u001b[49m\u001b[43m(\u001b[49m\u001b[43mx\u001b[49m\u001b[43m,\u001b[49m\u001b[43mz_var\u001b[49m\u001b[43m)\u001b[49m\u001b[38;5;241m+\u001b[39mx\n\u001b[0;32m     99\u001b[0m     \u001b[38;5;66;03m## Discriminator loss\u001b[39;00m\n\u001b[0;32m    100\u001b[0m     pred_fake_y \u001b[38;5;241m=\u001b[39m \u001b[38;5;28mself\u001b[39m\u001b[38;5;241m.\u001b[39mnetDiscriminator\u001b[38;5;241m.\u001b[39mforward(fake_y\u001b[38;5;241m.\u001b[39mdetach())\n",
      "File \u001b[1;32m~\\anaconda3\\envs\\deepcare\\lib\\site-packages\\SmileGAN\\networks.py:58\u001b[0m, in \u001b[0;36mLMappingGenerator.forward\u001b[1;34m(self, input_x, input_z)\u001b[0m\n\u001b[0;32m     57\u001b[0m \u001b[38;5;28;01mdef\u001b[39;00m \u001b[38;5;21mforward\u001b[39m(\u001b[38;5;28mself\u001b[39m, input_x,input_z):\n\u001b[1;32m---> 58\u001b[0m     \u001b[38;5;28;01mreturn\u001b[39;00m \u001b[38;5;28;43mself\u001b[39;49m\u001b[38;5;241;43m.\u001b[39;49m\u001b[43mmodel\u001b[49m\u001b[43m(\u001b[49m\u001b[43minput_x\u001b[49m\u001b[43m,\u001b[49m\u001b[43minput_z\u001b[49m\u001b[43m)\u001b[49m\n",
      "File \u001b[1;32m~\\anaconda3\\envs\\deepcare\\lib\\site-packages\\torch\\nn\\modules\\module.py:1102\u001b[0m, in \u001b[0;36mModule._call_impl\u001b[1;34m(self, *input, **kwargs)\u001b[0m\n\u001b[0;32m   1098\u001b[0m \u001b[38;5;66;03m# If we don't have any hooks, we want to skip the rest of the logic in\u001b[39;00m\n\u001b[0;32m   1099\u001b[0m \u001b[38;5;66;03m# this function, and just call forward.\u001b[39;00m\n\u001b[0;32m   1100\u001b[0m \u001b[38;5;28;01mif\u001b[39;00m \u001b[38;5;129;01mnot\u001b[39;00m (\u001b[38;5;28mself\u001b[39m\u001b[38;5;241m.\u001b[39m_backward_hooks \u001b[38;5;129;01mor\u001b[39;00m \u001b[38;5;28mself\u001b[39m\u001b[38;5;241m.\u001b[39m_forward_hooks \u001b[38;5;129;01mor\u001b[39;00m \u001b[38;5;28mself\u001b[39m\u001b[38;5;241m.\u001b[39m_forward_pre_hooks \u001b[38;5;129;01mor\u001b[39;00m _global_backward_hooks\n\u001b[0;32m   1101\u001b[0m         \u001b[38;5;129;01mor\u001b[39;00m _global_forward_hooks \u001b[38;5;129;01mor\u001b[39;00m _global_forward_pre_hooks):\n\u001b[1;32m-> 1102\u001b[0m     \u001b[38;5;28;01mreturn\u001b[39;00m \u001b[43mforward_call\u001b[49m\u001b[43m(\u001b[49m\u001b[38;5;241;43m*\u001b[39;49m\u001b[38;5;28;43minput\u001b[39;49m\u001b[43m,\u001b[49m\u001b[43m \u001b[49m\u001b[38;5;241;43m*\u001b[39;49m\u001b[38;5;241;43m*\u001b[39;49m\u001b[43mkwargs\u001b[49m\u001b[43m)\u001b[49m\n\u001b[0;32m   1103\u001b[0m \u001b[38;5;66;03m# Do not call functions when jit is used\u001b[39;00m\n\u001b[0;32m   1104\u001b[0m full_backward_hooks, non_full_backward_hooks \u001b[38;5;241m=\u001b[39m [], []\n",
      "File \u001b[1;32m~\\anaconda3\\envs\\deepcare\\lib\\site-packages\\SmileGAN\\modules.py:28\u001b[0m, in \u001b[0;36mTwoInputSequential.forward\u001b[1;34m(self, input1, input2)\u001b[0m\n\u001b[0;32m     26\u001b[0m         input1 \u001b[38;5;241m=\u001b[39m module\u001b[38;5;241m.\u001b[39mforward(input1, input2)\n\u001b[0;32m     27\u001b[0m     \u001b[38;5;28;01melse\u001b[39;00m:\n\u001b[1;32m---> 28\u001b[0m         input1 \u001b[38;5;241m=\u001b[39m \u001b[43mmodule\u001b[49m\u001b[38;5;241;43m.\u001b[39;49m\u001b[43mforward\u001b[49m\u001b[43m(\u001b[49m\u001b[43minput1\u001b[49m\u001b[43m)\u001b[49m\n\u001b[0;32m     29\u001b[0m \u001b[38;5;28;01mreturn\u001b[39;00m input1\n",
      "File \u001b[1;32m~\\anaconda3\\envs\\deepcare\\lib\\site-packages\\torch\\nn\\modules\\linear.py:103\u001b[0m, in \u001b[0;36mLinear.forward\u001b[1;34m(self, input)\u001b[0m\n\u001b[0;32m    102\u001b[0m \u001b[38;5;28;01mdef\u001b[39;00m \u001b[38;5;21mforward\u001b[39m(\u001b[38;5;28mself\u001b[39m, \u001b[38;5;28minput\u001b[39m: Tensor) \u001b[38;5;241m-\u001b[39m\u001b[38;5;241m>\u001b[39m Tensor:\n\u001b[1;32m--> 103\u001b[0m     \u001b[38;5;28;01mreturn\u001b[39;00m \u001b[43mF\u001b[49m\u001b[38;5;241;43m.\u001b[39;49m\u001b[43mlinear\u001b[49m\u001b[43m(\u001b[49m\u001b[38;5;28;43minput\u001b[39;49m\u001b[43m,\u001b[49m\u001b[43m \u001b[49m\u001b[38;5;28;43mself\u001b[39;49m\u001b[38;5;241;43m.\u001b[39;49m\u001b[43mweight\u001b[49m\u001b[43m,\u001b[49m\u001b[43m \u001b[49m\u001b[38;5;28;43mself\u001b[39;49m\u001b[38;5;241;43m.\u001b[39;49m\u001b[43mbias\u001b[49m\u001b[43m)\u001b[49m\n",
      "File \u001b[1;32m~\\anaconda3\\envs\\deepcare\\lib\\site-packages\\torch\\nn\\functional.py:1848\u001b[0m, in \u001b[0;36mlinear\u001b[1;34m(input, weight, bias)\u001b[0m\n\u001b[0;32m   1846\u001b[0m \u001b[38;5;28;01mif\u001b[39;00m has_torch_function_variadic(\u001b[38;5;28minput\u001b[39m, weight, bias):\n\u001b[0;32m   1847\u001b[0m     \u001b[38;5;28;01mreturn\u001b[39;00m handle_torch_function(linear, (\u001b[38;5;28minput\u001b[39m, weight, bias), \u001b[38;5;28minput\u001b[39m, weight, bias\u001b[38;5;241m=\u001b[39mbias)\n\u001b[1;32m-> 1848\u001b[0m \u001b[38;5;28;01mreturn\u001b[39;00m \u001b[43mtorch\u001b[49m\u001b[38;5;241;43m.\u001b[39;49m\u001b[43m_C\u001b[49m\u001b[38;5;241;43m.\u001b[39;49m\u001b[43m_nn\u001b[49m\u001b[38;5;241;43m.\u001b[39;49m\u001b[43mlinear\u001b[49m\u001b[43m(\u001b[49m\u001b[38;5;28;43minput\u001b[39;49m\u001b[43m,\u001b[49m\u001b[43m \u001b[49m\u001b[43mweight\u001b[49m\u001b[43m,\u001b[49m\u001b[43m \u001b[49m\u001b[43mbias\u001b[49m\u001b[43m)\u001b[49m\n",
      "\u001b[1;31mKeyboardInterrupt\u001b[0m: "
     ]
    }
   ],
   "source": [
    "fold_number = 100  # number of folds the leave-out cv runs\n",
    "data_fraction = 0.8 # fraction of data used in each fold\n",
    "cross_validated_clustering(TA_test, ncluster, fold_number, data_fraction, start_saving_epoch, max_epoch,\n",
    "                           output_dir, WD, AQ, cluster_loss, consensus_type, batchSize=batch_size)"
   ]
  },
  {
   "cell_type": "code",
   "execution_count": null,
   "id": "23689aac-34cc-4783-ae8e-a2d6ea1b7e5c",
   "metadata": {},
   "outputs": [],
   "source": []
  }
 ],
 "metadata": {
  "kernelspec": {
   "display_name": "deepcare",
   "language": "python",
   "name": "deepcare"
  },
  "language_info": {
   "codemirror_mode": {
    "name": "ipython",
    "version": 3
   },
   "file_extension": ".py",
   "mimetype": "text/x-python",
   "name": "python",
   "nbconvert_exporter": "python",
   "pygments_lexer": "ipython3",
   "version": "3.8.0"
  }
 },
 "nbformat": 4,
 "nbformat_minor": 5
}
